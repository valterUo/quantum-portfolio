{
 "cells": [
  {
   "cell_type": "code",
   "execution_count": 1,
   "id": "278f1818",
   "metadata": {},
   "outputs": [
    {
     "name": "stdout",
     "output_type": "stream",
     "text": [
      "{'max_qubits': 10, 'budget': 3670, 'stocks': ['HON', 'JNJ'], 'start': '2015-01-01', 'end': '2025-01-01', 'n_stocks': 2}\n",
      "1\n"
     ]
    }
   ],
   "source": [
    "import json\n",
    "import yfinance as yf\n",
    "from coskweness_cokurtosis import coskewness, cokurtosis\n",
    "from portfolio_hubo_qaoa_light import HigherOrderPortfolioQAOA\n",
    "from pypfopt.expected_returns import mean_historical_return\n",
    "from pypfopt.risk_models import sample_cov\n",
    "import pennylane as qml\n",
    "import qiskit\n",
    "from qiskit import qasm2\n",
    "from qiskit.transpiler.passes import ResourceEstimation\n",
    "\n",
    "\n",
    "# Load experiments data\n",
    "experiments = None\n",
    "with open(\"experiments_data.json\", \"r\") as f:\n",
    "    experiments = list(json.load(f)[\"data\"])\n",
    "    \n",
    "print(experiments[0])\n",
    "\n",
    "circuit_specs = {}\n",
    "with open(\"circuit_specs.json\", \"r\") as f:\n",
    "    circuit_specs = json.load(f)\n",
    "\n",
    "print(len(circuit_specs))"
   ]
  },
  {
   "cell_type": "code",
   "execution_count": 2,
   "id": "40b8562e",
   "metadata": {},
   "outputs": [
    {
     "name": "stdout",
     "output_type": "stream",
     "text": [
      "YF.download() has changed argument auto_adjust default to True\n"
     ]
    },
    {
     "name": "stderr",
     "output_type": "stream",
     "text": [
      "[*********************100%***********************]  2 of 2 completed\n"
     ]
    },
    {
     "name": "stdout",
     "output_type": "stream",
     "text": [
      "Number of qubits for asset HON: 5\n",
      "Number of qubits for asset JNJ: 5\n",
      "Total number of qubits:  10\n",
      "circuit 0 constructed\n",
      "circuit 0 converted to qasm\n",
      "circuit 0 converted to qiskit\n",
      "Circuit specs saved in circuit_specs.json\n"
     ]
    },
    {
     "name": "stderr",
     "output_type": "stream",
     "text": [
      "[*********************100%***********************]  2 of 2 completed\n"
     ]
    },
    {
     "name": "stdout",
     "output_type": "stream",
     "text": [
      "Number of qubits for asset NKE: 6\n",
      "Number of qubits for asset TRV: 4\n",
      "Total number of qubits:  10\n",
      "circuit 1 constructed\n"
     ]
    },
    {
     "name": "stderr",
     "output_type": "stream",
     "text": [
      "[                       0%                       ]"
     ]
    },
    {
     "name": "stdout",
     "output_type": "stream",
     "text": [
      "circuit 1 converted to qasm\n",
      "circuit 1 converted to qiskit\n",
      "Circuit specs saved in circuit_specs.json\n"
     ]
    },
    {
     "name": "stderr",
     "output_type": "stream",
     "text": [
      "[*********************100%***********************]  3 of 3 completed\n"
     ]
    },
    {
     "name": "stdout",
     "output_type": "stream",
     "text": [
      "Number of qubits for asset AXP: 3\n",
      "Number of qubits for asset MMM: 4\n",
      "Number of qubits for asset TRV: 3\n",
      "Total number of qubits:  10\n",
      "circuit 2 constructed\n",
      "circuit 2 converted to qasm\n",
      "circuit 2 converted to qiskit\n",
      "Circuit specs saved in circuit_specs.json\n"
     ]
    },
    {
     "name": "stderr",
     "output_type": "stream",
     "text": [
      "[*********************100%***********************]  5 of 5 completed\n"
     ]
    },
    {
     "name": "stdout",
     "output_type": "stream",
     "text": [
      "Number of qubits for asset AMGN: 2\n",
      "Number of qubits for asset CAT: 1\n",
      "Number of qubits for asset GS: 1\n",
      "Number of qubits for asset MSFT: 1\n",
      "Number of qubits for asset VZ: 5\n",
      "Total number of qubits:  10\n",
      "circuit 3 constructed\n"
     ]
    },
    {
     "name": "stderr",
     "output_type": "stream",
     "text": [
      "[*********************100%***********************]  2 of 2 completed"
     ]
    },
    {
     "name": "stdout",
     "output_type": "stream",
     "text": [
      "circuit 3 converted to qasm\n",
      "circuit 3 converted to qiskit\n",
      "Circuit specs saved in circuit_specs.json\n",
      "Number of qubits for asset HON: 4\n",
      "Number of qubits for asset VZ: 6\n",
      "Total number of qubits:  10\n",
      "circuit 4 constructed\n"
     ]
    },
    {
     "name": "stderr",
     "output_type": "stream",
     "text": [
      "\n",
      "[*********************100%***********************]  2 of 2 completed"
     ]
    },
    {
     "name": "stdout",
     "output_type": "stream",
     "text": [
      "circuit 4 converted to qasm\n",
      "circuit 4 converted to qiskit\n",
      "Circuit specs saved in circuit_specs.json\n",
      "Number of qubits for asset AXP: 5\n",
      "Number of qubits for asset TRV: 5\n",
      "Total number of qubits:  10\n",
      "circuit 5 constructed\n"
     ]
    },
    {
     "name": "stderr",
     "output_type": "stream",
     "text": [
      "\n"
     ]
    },
    {
     "name": "stdout",
     "output_type": "stream",
     "text": [
      "circuit 5 converted to qasm\n",
      "circuit 5 converted to qiskit\n",
      "Circuit specs saved in circuit_specs.json\n"
     ]
    },
    {
     "name": "stderr",
     "output_type": "stream",
     "text": [
      "[*********************100%***********************]  2 of 2 completed\n"
     ]
    },
    {
     "name": "stdout",
     "output_type": "stream",
     "text": [
      "Number of qubits for asset DOW: 6\n",
      "Number of qubits for asset TRV: 4\n",
      "Total number of qubits:  10\n",
      "circuit 6 constructed\n",
      "circuit 6 converted to qasm\n",
      "circuit 6 converted to qiskit\n",
      "Circuit specs saved in circuit_specs.json\n"
     ]
    },
    {
     "name": "stderr",
     "output_type": "stream",
     "text": [
      "[*********************100%***********************]  2 of 2 completed\n"
     ]
    },
    {
     "name": "stdout",
     "output_type": "stream",
     "text": [
      "Number of qubits for asset HD: 4\n",
      "Number of qubits for asset MRK: 6\n",
      "Total number of qubits:  10\n",
      "circuit 7 constructed\n"
     ]
    },
    {
     "name": "stderr",
     "output_type": "stream",
     "text": [
      "[                       0%                       ]"
     ]
    },
    {
     "name": "stdout",
     "output_type": "stream",
     "text": [
      "circuit 7 converted to qasm\n",
      "circuit 7 converted to qiskit\n",
      "Circuit specs saved in circuit_specs.json\n"
     ]
    },
    {
     "name": "stderr",
     "output_type": "stream",
     "text": [
      "[*********************100%***********************]  2 of 2 completed\n"
     ]
    },
    {
     "name": "stdout",
     "output_type": "stream",
     "text": [
      "Number of qubits for asset CVX: 6\n",
      "Number of qubits for asset HD: 4\n",
      "Total number of qubits:  10\n",
      "circuit 8 constructed\n",
      "circuit 8 converted to qasm\n",
      "circuit 8 converted to qiskit\n",
      "Circuit specs saved in circuit_specs.json\n"
     ]
    },
    {
     "name": "stderr",
     "output_type": "stream",
     "text": [
      "[*********************100%***********************]  2 of 2 completed\n"
     ]
    },
    {
     "name": "stdout",
     "output_type": "stream",
     "text": [
      "Number of qubits for asset AAPL: 4\n",
      "Number of qubits for asset NKE: 6\n",
      "Total number of qubits:  10\n",
      "circuit 9 constructed\n"
     ]
    },
    {
     "name": "stderr",
     "output_type": "stream",
     "text": [
      "[*********************100%***********************]  3 of 3 completed"
     ]
    },
    {
     "name": "stdout",
     "output_type": "stream",
     "text": [
      "circuit 9 converted to qasm\n",
      "circuit 9 converted to qiskit\n",
      "Circuit specs saved in circuit_specs.json\n",
      "Number of qubits for asset AXP: 4\n",
      "Number of qubits for asset GS: 3\n",
      "Number of qubits for asset MRK: 6\n",
      "Total number of qubits:  13\n",
      "circuit 10 constructed\n"
     ]
    },
    {
     "name": "stderr",
     "output_type": "stream",
     "text": [
      "\n",
      "[*********************100%***********************]  2 of 2 completed"
     ]
    },
    {
     "name": "stdout",
     "output_type": "stream",
     "text": [
      "circuit 10 converted to qasm\n",
      "circuit 10 converted to qiskit\n",
      "Circuit specs saved in circuit_specs.json\n",
      "Number of qubits for asset MMM: 6\n",
      "Number of qubits for asset NKE: 7\n",
      "Total number of qubits:  13\n",
      "circuit 11 constructed\n"
     ]
    },
    {
     "name": "stderr",
     "output_type": "stream",
     "text": [
      "\n"
     ]
    },
    {
     "name": "stdout",
     "output_type": "stream",
     "text": [
      "circuit 11 converted to qasm\n",
      "circuit 11 converted to qiskit\n",
      "Circuit specs saved in circuit_specs.json\n"
     ]
    },
    {
     "name": "stderr",
     "output_type": "stream",
     "text": [
      "[*********************100%***********************]  3 of 3 completed\n"
     ]
    },
    {
     "name": "stdout",
     "output_type": "stream",
     "text": [
      "Number of qubits for asset JPM: 2\n",
      "Number of qubits for asset VZ: 4\n",
      "Number of qubits for asset WBA: 7\n",
      "Total number of qubits:  13\n",
      "circuit 12 constructed\n"
     ]
    },
    {
     "name": "stderr",
     "output_type": "stream",
     "text": [
      "[                       0%                       ]"
     ]
    },
    {
     "name": "stdout",
     "output_type": "stream",
     "text": [
      "circuit 12 converted to qasm\n",
      "circuit 12 converted to qiskit\n",
      "Circuit specs saved in circuit_specs.json\n"
     ]
    },
    {
     "name": "stderr",
     "output_type": "stream",
     "text": [
      "[*********************100%***********************]  3 of 3 completed\n"
     ]
    },
    {
     "name": "stdout",
     "output_type": "stream",
     "text": [
      "Number of qubits for asset INTC: 7\n",
      "Number of qubits for asset JNJ: 4\n",
      "Number of qubits for asset MSFT: 2\n",
      "Total number of qubits:  13\n",
      "circuit 13 constructed\n"
     ]
    },
    {
     "name": "stderr",
     "output_type": "stream",
     "text": [
      "[*********************100%***********************]  3 of 3 completed"
     ]
    },
    {
     "name": "stdout",
     "output_type": "stream",
     "text": [
      "circuit 13 converted to qasm\n",
      "circuit 13 converted to qiskit\n",
      "Circuit specs saved in circuit_specs.json\n",
      "Number of qubits for asset DOW: 6\n",
      "Number of qubits for asset MSFT: 3\n",
      "Number of qubits for asset TRV: 4\n",
      "Total number of qubits:  13\n",
      "circuit 14 constructed\n"
     ]
    },
    {
     "name": "stderr",
     "output_type": "stream",
     "text": [
      "\n",
      "[                       0%                       ]"
     ]
    },
    {
     "name": "stdout",
     "output_type": "stream",
     "text": [
      "circuit 14 converted to qasm\n",
      "circuit 14 converted to qiskit\n",
      "Circuit specs saved in circuit_specs.json\n"
     ]
    },
    {
     "name": "stderr",
     "output_type": "stream",
     "text": [
      "[*********************100%***********************]  5 of 5 completed\n"
     ]
    },
    {
     "name": "stdout",
     "output_type": "stream",
     "text": [
      "Number of qubits for asset GS: 1\n",
      "Number of qubits for asset JNJ: 3\n",
      "Number of qubits for asset MSFT: 1\n",
      "Number of qubits for asset UNH: 1\n",
      "Number of qubits for asset WBA: 7\n",
      "Total number of qubits:  13\n",
      "circuit 15 constructed\n"
     ]
    },
    {
     "name": "stderr",
     "output_type": "stream",
     "text": [
      "[*******************   40%                       ]  2 of 5 completed"
     ]
    },
    {
     "name": "stdout",
     "output_type": "stream",
     "text": [
      "circuit 15 converted to qasm\n",
      "circuit 15 converted to qiskit\n",
      "Circuit specs saved in circuit_specs.json\n"
     ]
    },
    {
     "name": "stderr",
     "output_type": "stream",
     "text": [
      "[*********************100%***********************]  5 of 5 completed\n"
     ]
    },
    {
     "name": "stdout",
     "output_type": "stream",
     "text": [
      "Number of qubits for asset DIS: 3\n",
      "Number of qubits for asset GS: 1\n",
      "Number of qubits for asset IBM: 2\n",
      "Number of qubits for asset JNJ: 3\n",
      "Number of qubits for asset NKE: 4\n",
      "Total number of qubits:  13\n",
      "circuit 16 constructed\n"
     ]
    },
    {
     "name": "stderr",
     "output_type": "stream",
     "text": [
      "[*********************100%***********************]  3 of 3 completed"
     ]
    },
    {
     "name": "stdout",
     "output_type": "stream",
     "text": [
      "circuit 16 converted to qasm\n",
      "circuit 16 converted to qiskit\n",
      "Circuit specs saved in circuit_specs.json\n",
      "Number of qubits for asset CVX: 4\n",
      "Number of qubits for asset DOW: 6\n",
      "Number of qubits for asset HON: 3\n",
      "Total number of qubits:  13\n",
      "circuit 17 constructed\n"
     ]
    },
    {
     "name": "stderr",
     "output_type": "stream",
     "text": [
      "\n",
      "[*********************100%***********************]  3 of 3 completed"
     ]
    },
    {
     "name": "stdout",
     "output_type": "stream",
     "text": [
      "circuit 17 converted to qasm\n",
      "circuit 17 converted to qiskit\n",
      "Circuit specs saved in circuit_specs.json\n",
      "Number of qubits for asset AMGN: 2\n",
      "Number of qubits for asset DOW: 5\n",
      "Number of qubits for asset INTC: 6\n",
      "Total number of qubits:  13\n",
      "circuit 18 constructed\n"
     ]
    },
    {
     "name": "stderr",
     "output_type": "stream",
     "text": [
      "\n",
      "[*******************   40%                       ]  2 of 5 completed"
     ]
    },
    {
     "name": "stdout",
     "output_type": "stream",
     "text": [
      "circuit 18 converted to qasm\n",
      "circuit 18 converted to qiskit\n",
      "Circuit specs saved in circuit_specs.json\n"
     ]
    },
    {
     "name": "stderr",
     "output_type": "stream",
     "text": [
      "[*********************100%***********************]  5 of 5 completed\n"
     ]
    },
    {
     "name": "stdout",
     "output_type": "stream",
     "text": [
      "Number of qubits for asset BA: 2\n",
      "Number of qubits for asset CVX: 2\n",
      "Number of qubits for asset DIS: 3\n",
      "Number of qubits for asset INTC: 5\n",
      "Number of qubits for asset V: 1\n",
      "Total number of qubits:  13\n",
      "circuit 19 constructed\n"
     ]
    },
    {
     "name": "stderr",
     "output_type": "stream",
     "text": [
      "[*********************100%***********************]  2 of 2 completed"
     ]
    },
    {
     "name": "stdout",
     "output_type": "stream",
     "text": [
      "circuit 19 converted to qasm\n",
      "circuit 19 converted to qiskit\n",
      "Circuit specs saved in circuit_specs.json\n",
      "Number of qubits for asset GS: 3\n",
      "Number of qubits for asset MRK: 5\n",
      "Total number of qubits:  8\n",
      "circuit 20 constructed\n"
     ]
    },
    {
     "name": "stderr",
     "output_type": "stream",
     "text": [
      "\n",
      "[                       0%                       ]"
     ]
    },
    {
     "name": "stdout",
     "output_type": "stream",
     "text": [
      "circuit 20 converted to qasm\n",
      "circuit 20 converted to qiskit\n",
      "Circuit specs saved in circuit_specs.json\n"
     ]
    },
    {
     "name": "stderr",
     "output_type": "stream",
     "text": [
      "[*********************100%***********************]  2 of 2 completed\n",
      "[                       0%                       ]"
     ]
    },
    {
     "name": "stdout",
     "output_type": "stream",
     "text": [
      "Number of qubits for asset CAT: 3\n",
      "Number of qubits for asset PG: 5\n",
      "Total number of qubits:  8\n",
      "circuit 21 constructed\n",
      "circuit 21 converted to qasm\n",
      "circuit 21 converted to qiskit\n",
      "Circuit specs saved in circuit_specs.json\n"
     ]
    },
    {
     "name": "stderr",
     "output_type": "stream",
     "text": [
      "[*********************100%***********************]  2 of 2 completed\n"
     ]
    },
    {
     "name": "stdout",
     "output_type": "stream",
     "text": [
      "Number of qubits for asset CRM: 4\n",
      "Number of qubits for asset MSFT: 4\n",
      "Total number of qubits:  8\n",
      "circuit 22 constructed\n"
     ]
    },
    {
     "name": "stderr",
     "output_type": "stream",
     "text": [
      "[*********************100%***********************]  2 of 2 completed"
     ]
    },
    {
     "name": "stdout",
     "output_type": "stream",
     "text": [
      "circuit 22 converted to qasm\n",
      "circuit 22 converted to qiskit\n",
      "Circuit specs saved in circuit_specs.json\n",
      "Number of qubits for asset AMGN: 4\n",
      "Number of qubits for asset HON: 4\n",
      "Total number of qubits:  8\n",
      "circuit 23 constructed\n"
     ]
    },
    {
     "name": "stderr",
     "output_type": "stream",
     "text": [
      "\n",
      "[**********************60%****                   ]  3 of 5 completed"
     ]
    },
    {
     "name": "stdout",
     "output_type": "stream",
     "text": [
      "circuit 23 converted to qasm\n",
      "circuit 23 converted to qiskit\n",
      "Circuit specs saved in circuit_specs.json\n"
     ]
    },
    {
     "name": "stderr",
     "output_type": "stream",
     "text": [
      "[*********************100%***********************]  5 of 5 completed\n"
     ]
    },
    {
     "name": "stdout",
     "output_type": "stream",
     "text": [
      "Number of qubits for asset CAT: 1\n",
      "Number of qubits for asset CSCO: 3\n",
      "Number of qubits for asset DIS: 2\n",
      "Number of qubits for asset JPM: 1\n",
      "Number of qubits for asset V: 1\n",
      "Total number of qubits:  8\n",
      "circuit 24 constructed\n",
      "circuit 24 converted to qasm\n",
      "circuit 24 converted to qiskit\n",
      "Circuit specs saved in circuit_specs.json\n"
     ]
    },
    {
     "name": "stderr",
     "output_type": "stream",
     "text": [
      "[*********************100%***********************]  2 of 2 completed\n"
     ]
    },
    {
     "name": "stdout",
     "output_type": "stream",
     "text": [
      "Number of qubits for asset IBM: 4\n",
      "Number of qubits for asset TRV: 4\n",
      "Total number of qubits:  8\n",
      "circuit 25 constructed\n",
      "circuit 25 converted to qasm\n",
      "circuit 25 converted to qiskit\n",
      "Circuit specs saved in circuit_specs.json\n"
     ]
    },
    {
     "name": "stderr",
     "output_type": "stream",
     "text": [
      "[*********************100%***********************]  2 of 2 completed\n"
     ]
    },
    {
     "name": "stdout",
     "output_type": "stream",
     "text": [
      "Number of qubits for asset CAT: 4\n",
      "Number of qubits for asset HD: 4\n",
      "Total number of qubits:  8\n",
      "circuit 26 constructed\n"
     ]
    },
    {
     "name": "stderr",
     "output_type": "stream",
     "text": [
      "[*********************100%***********************]  2 of 2 completed"
     ]
    },
    {
     "name": "stdout",
     "output_type": "stream",
     "text": [
      "circuit 26 converted to qasm\n",
      "circuit 26 converted to qiskit\n",
      "Circuit specs saved in circuit_specs.json\n",
      "Number of qubits for asset CAT: 4\n",
      "Number of qubits for asset UNH: 4\n",
      "Total number of qubits:  8\n",
      "circuit 27 constructed\n"
     ]
    },
    {
     "name": "stderr",
     "output_type": "stream",
     "text": [
      "\n",
      "[*********************100%***********************]  2 of 2 completed"
     ]
    },
    {
     "name": "stdout",
     "output_type": "stream",
     "text": [
      "circuit 27 converted to qasm\n",
      "circuit 27 converted to qiskit\n",
      "Circuit specs saved in circuit_specs.json\n",
      "Number of qubits for asset CAT: 3\n",
      "Number of qubits for asset NKE: 5\n",
      "Total number of qubits:  8\n",
      "circuit 28 constructed\n"
     ]
    },
    {
     "name": "stderr",
     "output_type": "stream",
     "text": [
      "\n",
      "[*********************100%***********************]  2 of 2 completed"
     ]
    },
    {
     "name": "stdout",
     "output_type": "stream",
     "text": [
      "circuit 28 converted to qasm\n",
      "circuit 28 converted to qiskit\n",
      "Circuit specs saved in circuit_specs.json\n",
      "Number of qubits for asset CRM: 2\n",
      "Number of qubits for asset INTC: 6\n",
      "Total number of qubits:  8\n",
      "circuit 29 constructed\n"
     ]
    },
    {
     "name": "stderr",
     "output_type": "stream",
     "text": [
      "\n",
      "[*********************100%***********************]  2 of 2 completed"
     ]
    },
    {
     "name": "stdout",
     "output_type": "stream",
     "text": [
      "circuit 29 converted to qasm\n",
      "circuit 29 converted to qiskit\n",
      "Circuit specs saved in circuit_specs.json\n",
      "Number of qubits for asset AMGN: 3\n",
      "Number of qubits for asset INTC: 6\n",
      "Total number of qubits:  9\n",
      "circuit 30 constructed\n"
     ]
    },
    {
     "name": "stderr",
     "output_type": "stream",
     "text": [
      "\n",
      "[*********************100%***********************]  2 of 2 completed"
     ]
    },
    {
     "name": "stdout",
     "output_type": "stream",
     "text": [
      "circuit 30 converted to qasm\n",
      "circuit 30 converted to qiskit\n",
      "Circuit specs saved in circuit_specs.json\n",
      "Number of qubits for asset HON: 5\n",
      "Number of qubits for asset V: 4\n",
      "Total number of qubits:  9\n",
      "circuit 31 constructed\n"
     ]
    },
    {
     "name": "stderr",
     "output_type": "stream",
     "text": [
      "\n",
      "[*********************100%***********************]  2 of 2 completed"
     ]
    },
    {
     "name": "stdout",
     "output_type": "stream",
     "text": [
      "circuit 31 converted to qasm\n",
      "circuit 31 converted to qiskit\n",
      "Circuit specs saved in circuit_specs.json\n",
      "Number of qubits for asset BA: 5\n",
      "Number of qubits for asset MSFT: 4\n",
      "Total number of qubits:  9\n",
      "circuit 32 constructed\n"
     ]
    },
    {
     "name": "stderr",
     "output_type": "stream",
     "text": [
      "\n",
      "[*********************100%***********************]  2 of 2 completed"
     ]
    },
    {
     "name": "stdout",
     "output_type": "stream",
     "text": [
      "circuit 32 converted to qasm\n",
      "circuit 32 converted to qiskit\n",
      "Circuit specs saved in circuit_specs.json\n",
      "Number of qubits for asset MMM: 5\n",
      "Number of qubits for asset TRV: 4\n",
      "Total number of qubits:  9\n",
      "circuit 33 constructed\n"
     ]
    },
    {
     "name": "stderr",
     "output_type": "stream",
     "text": [
      "\n",
      "[*********************100%***********************]  2 of 2 completed"
     ]
    },
    {
     "name": "stdout",
     "output_type": "stream",
     "text": [
      "circuit 33 converted to qasm\n",
      "circuit 33 converted to qiskit\n",
      "Circuit specs saved in circuit_specs.json\n",
      "Number of qubits for asset HD: 4\n",
      "Number of qubits for asset TRV: 5\n",
      "Total number of qubits:  9\n",
      "circuit 34 constructed\n"
     ]
    },
    {
     "name": "stderr",
     "output_type": "stream",
     "text": [
      "\n",
      "[*********************100%***********************]  2 of 2 completed"
     ]
    },
    {
     "name": "stdout",
     "output_type": "stream",
     "text": [
      "circuit 34 converted to qasm\n",
      "circuit 34 converted to qiskit\n",
      "Circuit specs saved in circuit_specs.json\n",
      "Number of qubits for asset HD: 4\n",
      "Number of qubits for asset MMM: 5\n",
      "Total number of qubits:  9\n",
      "circuit 35 constructed\n"
     ]
    },
    {
     "name": "stderr",
     "output_type": "stream",
     "text": [
      "\n",
      "[*********************100%***********************]  2 of 2 completed"
     ]
    },
    {
     "name": "stdout",
     "output_type": "stream",
     "text": [
      "circuit 35 converted to qasm\n",
      "circuit 35 converted to qiskit\n",
      "Circuit specs saved in circuit_specs.json\n",
      "Number of qubits for asset IBM: 3\n",
      "Number of qubits for asset INTC: 6\n",
      "Total number of qubits:  9\n",
      "circuit 36 constructed\n"
     ]
    },
    {
     "name": "stderr",
     "output_type": "stream",
     "text": [
      "\n",
      "[*********************100%***********************]  2 of 2 completed"
     ]
    },
    {
     "name": "stdout",
     "output_type": "stream",
     "text": [
      "circuit 36 converted to qasm\n",
      "circuit 36 converted to qiskit\n",
      "Circuit specs saved in circuit_specs.json\n"
     ]
    },
    {
     "name": "stderr",
     "output_type": "stream",
     "text": [
      "\n"
     ]
    },
    {
     "name": "stdout",
     "output_type": "stream",
     "text": [
      "Number of qubits for asset CAT: 2\n",
      "Number of qubits for asset INTC: 7\n",
      "Total number of qubits:  9\n",
      "circuit 37 constructed\n",
      "circuit 37 converted to qasm\n"
     ]
    },
    {
     "name": "stderr",
     "output_type": "stream",
     "text": [
      "[*********************100%***********************]  3 of 3 completed"
     ]
    },
    {
     "name": "stdout",
     "output_type": "stream",
     "text": [
      "circuit 37 converted to qiskit\n",
      "Circuit specs saved in circuit_specs.json\n",
      "Number of qubits for asset AAPL: 3\n",
      "Number of qubits for asset GS: 2\n",
      "Number of qubits for asset MRK: 4\n",
      "Total number of qubits:  9\n",
      "circuit 38 constructed\n"
     ]
    },
    {
     "name": "stderr",
     "output_type": "stream",
     "text": [
      "\n",
      "[**********************60%****                   ]  3 of 5 completed"
     ]
    },
    {
     "name": "stdout",
     "output_type": "stream",
     "text": [
      "circuit 38 converted to qasm\n",
      "circuit 38 converted to qiskit\n",
      "Circuit specs saved in circuit_specs.json\n"
     ]
    },
    {
     "name": "stderr",
     "output_type": "stream",
     "text": [
      "[*********************100%***********************]  5 of 5 completed\n"
     ]
    },
    {
     "name": "stdout",
     "output_type": "stream",
     "text": [
      "Number of qubits for asset HON: 1\n",
      "Number of qubits for asset IBM: 2\n",
      "Number of qubits for asset JNJ: 2\n",
      "Number of qubits for asset JPM: 1\n",
      "Number of qubits for asset WMT: 3\n",
      "Total number of qubits:  9\n",
      "circuit 39 constructed\n"
     ]
    },
    {
     "name": "stderr",
     "output_type": "stream",
     "text": [
      "[                       0%                       ]"
     ]
    },
    {
     "name": "stdout",
     "output_type": "stream",
     "text": [
      "circuit 39 converted to qasm\n",
      "circuit 39 converted to qiskit\n",
      "Circuit specs saved in circuit_specs.json\n"
     ]
    },
    {
     "name": "stderr",
     "output_type": "stream",
     "text": [
      "[*********************100%***********************]  5 of 5 completed\n"
     ]
    },
    {
     "name": "stdout",
     "output_type": "stream",
     "text": [
      "Number of qubits for asset AXP: 1\n",
      "Number of qubits for asset DIS: 3\n",
      "Number of qubits for asset DOW: 4\n",
      "Number of qubits for asset VZ: 4\n",
      "Number of qubits for asset WMT: 3\n",
      "Total number of qubits:  15\n",
      "circuit 40 constructed\n"
     ]
    },
    {
     "name": "stderr",
     "output_type": "stream",
     "text": [
      "[*********************100%***********************]  4 of 4 completed"
     ]
    },
    {
     "name": "stdout",
     "output_type": "stream",
     "text": [
      "circuit 40 converted to qasm\n",
      "circuit 40 converted to qiskit\n",
      "Circuit specs saved in circuit_specs.json\n",
      "Number of qubits for asset BA: 4\n",
      "Number of qubits for asset HD: 3\n",
      "Number of qubits for asset JPM: 3\n",
      "Number of qubits for asset MRK: 5\n",
      "Total number of qubits:  15\n"
     ]
    },
    {
     "name": "stderr",
     "output_type": "stream",
     "text": [
      "\n"
     ]
    },
    {
     "name": "stdout",
     "output_type": "stream",
     "text": [
      "circuit 41 constructed\n"
     ]
    },
    {
     "name": "stderr",
     "output_type": "stream",
     "text": [
      "[*********************100%***********************]  4 of 4 completed"
     ]
    },
    {
     "name": "stdout",
     "output_type": "stream",
     "text": [
      "circuit 41 converted to qasm\n",
      "circuit 41 converted to qiskit\n",
      "Circuit specs saved in circuit_specs.json\n",
      "Number of qubits for asset CVX: 4\n",
      "Number of qubits for asset HD: 2\n",
      "Number of qubits for asset NKE: 5\n",
      "Number of qubits for asset PG: 4\n",
      "Total number of qubits:  15\n"
     ]
    },
    {
     "name": "stderr",
     "output_type": "stream",
     "text": [
      "\n"
     ]
    },
    {
     "name": "stdout",
     "output_type": "stream",
     "text": [
      "circuit 42 constructed\n",
      "circuit 42 converted to qasm\n",
      "circuit 42 converted to qiskit\n",
      "Circuit specs saved in circuit_specs.json\n"
     ]
    },
    {
     "name": "stderr",
     "output_type": "stream",
     "text": [
      "[*********************100%***********************]  3 of 3 completed\n"
     ]
    },
    {
     "name": "stdout",
     "output_type": "stream",
     "text": [
      "Number of qubits for asset CAT: 4\n",
      "Number of qubits for asset HD: 4\n",
      "Number of qubits for asset VZ: 7\n",
      "Total number of qubits:  15\n",
      "circuit 43 constructed\n"
     ]
    },
    {
     "name": "stderr",
     "output_type": "stream",
     "text": [
      "[*********************100%***********************]  4 of 4 completed"
     ]
    },
    {
     "name": "stdout",
     "output_type": "stream",
     "text": [
      "circuit 43 converted to qasm\n",
      "circuit 43 converted to qiskit\n",
      "Circuit specs saved in circuit_specs.json\n",
      "Number of qubits for asset GS: 2\n",
      "Number of qubits for asset JPM: 3\n",
      "Number of qubits for asset UNH: 2\n",
      "Number of qubits for asset WBA: 8\n",
      "Total number of qubits:  15\n"
     ]
    },
    {
     "name": "stderr",
     "output_type": "stream",
     "text": [
      "\n"
     ]
    },
    {
     "name": "stdout",
     "output_type": "stream",
     "text": [
      "circuit 44 constructed\n"
     ]
    },
    {
     "name": "stderr",
     "output_type": "stream",
     "text": [
      "[                       0%                       ]"
     ]
    },
    {
     "name": "stdout",
     "output_type": "stream",
     "text": [
      "circuit 44 converted to qasm\n",
      "circuit 44 converted to qiskit\n",
      "Circuit specs saved in circuit_specs.json\n"
     ]
    },
    {
     "name": "stderr",
     "output_type": "stream",
     "text": [
      "[*********************100%***********************]  3 of 3 completed\n"
     ]
    },
    {
     "name": "stdout",
     "output_type": "stream",
     "text": [
      "Number of qubits for asset MCD: 4\n",
      "Number of qubits for asset V: 4\n",
      "Number of qubits for asset VZ: 7\n",
      "Total number of qubits:  15\n",
      "circuit 45 constructed\n"
     ]
    },
    {
     "name": "stderr",
     "output_type": "stream",
     "text": [
      "[*********************100%***********************]  4 of 4 completed"
     ]
    },
    {
     "name": "stdout",
     "output_type": "stream",
     "text": [
      "circuit 45 converted to qasm\n",
      "circuit 45 converted to qiskit\n",
      "Circuit specs saved in circuit_specs.json\n",
      "Number of qubits for asset AMGN: 3\n",
      "Number of qubits for asset AXP: 3\n",
      "Number of qubits for asset HON: 3\n",
      "Number of qubits for asset VZ: 6\n",
      "Total number of qubits:  15\n"
     ]
    },
    {
     "name": "stderr",
     "output_type": "stream",
     "text": [
      "\n"
     ]
    },
    {
     "name": "stdout",
     "output_type": "stream",
     "text": [
      "circuit 46 constructed\n",
      "circuit 46 converted to qasm\n",
      "circuit 46 converted to qiskit\n",
      "Circuit specs saved in circuit_specs.json\n"
     ]
    },
    {
     "name": "stderr",
     "output_type": "stream",
     "text": [
      "[*********************100%***********************]  6 of 6 completed\n"
     ]
    },
    {
     "name": "stdout",
     "output_type": "stream",
     "text": [
      "Number of qubits for asset AXP: 2\n",
      "Number of qubits for asset BA: 3\n",
      "Number of qubits for asset CAT: 2\n",
      "Number of qubits for asset IBM: 2\n",
      "Number of qubits for asset UNH: 1\n",
      "Number of qubits for asset VZ: 5\n",
      "Total number of qubits:  15\n",
      "circuit 47 constructed\n"
     ]
    },
    {
     "name": "stderr",
     "output_type": "stream",
     "text": [
      "[                       0%                       ]"
     ]
    },
    {
     "name": "stdout",
     "output_type": "stream",
     "text": [
      "circuit 47 converted to qasm\n",
      "circuit 47 converted to qiskit\n",
      "Circuit specs saved in circuit_specs.json\n"
     ]
    },
    {
     "name": "stderr",
     "output_type": "stream",
     "text": [
      "[*********************100%***********************]  5 of 5 completed\n"
     ]
    },
    {
     "name": "stdout",
     "output_type": "stream",
     "text": [
      "Number of qubits for asset AXP: 2\n",
      "Number of qubits for asset CSCO: 4\n",
      "Number of qubits for asset MMM: 3\n",
      "Number of qubits for asset MSFT: 2\n",
      "Number of qubits for asset WMT: 4\n",
      "Total number of qubits:  15\n",
      "circuit 48 constructed\n"
     ]
    },
    {
     "name": "stderr",
     "output_type": "stream",
     "text": [
      "[*********************100%***********************]  3 of 3 completed"
     ]
    },
    {
     "name": "stdout",
     "output_type": "stream",
     "text": [
      "circuit 48 converted to qasm\n",
      "circuit 48 converted to qiskit\n",
      "Circuit specs saved in circuit_specs.json\n",
      "Number of qubits for asset CSCO: 6\n",
      "Number of qubits for asset MRK: 6\n",
      "Number of qubits for asset MSFT: 3\n",
      "Total number of qubits:  15\n",
      "circuit 49 constructed\n"
     ]
    },
    {
     "name": "stderr",
     "output_type": "stream",
     "text": [
      "\n",
      "[*********************100%***********************]  3 of 3 completed"
     ]
    },
    {
     "name": "stdout",
     "output_type": "stream",
     "text": [
      "circuit 49 converted to qasm\n",
      "circuit 49 converted to qiskit\n",
      "Circuit specs saved in circuit_specs.json\n",
      "Number of qubits for asset BA: 5\n",
      "Number of qubits for asset GS: 3\n",
      "Number of qubits for asset NKE: 6\n",
      "Total number of qubits:  14\n",
      "circuit 50 constructed\n"
     ]
    },
    {
     "name": "stderr",
     "output_type": "stream",
     "text": [
      "\n",
      "[*********************100%***********************]  2 of 2 completed"
     ]
    },
    {
     "name": "stdout",
     "output_type": "stream",
     "text": [
      "circuit 50 converted to qasm\n",
      "circuit 50 converted to qiskit\n",
      "Circuit specs saved in circuit_specs.json\n",
      "Number of qubits for asset DOW: 7\n",
      "Number of qubits for asset NKE: 7\n",
      "Total number of qubits:  14\n",
      "circuit 51 constructed\n"
     ]
    },
    {
     "name": "stderr",
     "output_type": "stream",
     "text": [
      "\n",
      "[*********************100%***********************]  3 of 3 completed"
     ]
    },
    {
     "name": "stdout",
     "output_type": "stream",
     "text": [
      "circuit 51 converted to qasm\n",
      "circuit 51 converted to qiskit\n",
      "Circuit specs saved in circuit_specs.json\n",
      "Number of qubits for asset AMGN: 4\n",
      "Number of qubits for asset JPM: 4\n",
      "Number of qubits for asset NKE: 6\n",
      "Total number of qubits:  14\n",
      "circuit 52 constructed\n"
     ]
    },
    {
     "name": "stderr",
     "output_type": "stream",
     "text": [
      "\n",
      "[*********************100%***********************]  3 of 3 completed"
     ]
    },
    {
     "name": "stdout",
     "output_type": "stream",
     "text": [
      "circuit 52 converted to qasm\n",
      "circuit 52 converted to qiskit\n",
      "Circuit specs saved in circuit_specs.json\n",
      "Number of qubits for asset CAT: 4\n",
      "Number of qubits for asset CVX: 5\n",
      "Number of qubits for asset HON: 5\n",
      "Total number of qubits:  14\n",
      "circuit 53 constructed\n"
     ]
    },
    {
     "name": "stderr",
     "output_type": "stream",
     "text": [
      "\n",
      "[*********************100%***********************]  3 of 3 completed"
     ]
    },
    {
     "name": "stdout",
     "output_type": "stream",
     "text": [
      "circuit 53 converted to qasm\n",
      "circuit 53 converted to qiskit\n",
      "Circuit specs saved in circuit_specs.json\n",
      "Number of qubits for asset BA: 5\n",
      "Number of qubits for asset PG: 5\n",
      "Number of qubits for asset TRV: 4\n",
      "Total number of qubits:  14\n",
      "circuit 54 constructed\n"
     ]
    },
    {
     "name": "stderr",
     "output_type": "stream",
     "text": [
      "\n",
      "[*********************100%***********************]  3 of 3 completed"
     ]
    },
    {
     "name": "stdout",
     "output_type": "stream",
     "text": [
      "circuit 54 converted to qasm\n",
      "circuit 54 converted to qiskit\n",
      "Circuit specs saved in circuit_specs.json\n",
      "Number of qubits for asset AXP: 4\n",
      "Number of qubits for asset CAT: 4\n",
      "Number of qubits for asset NKE: 6\n",
      "Total number of qubits:  14\n",
      "circuit 55 constructed\n"
     ]
    },
    {
     "name": "stderr",
     "output_type": "stream",
     "text": [
      "\n",
      "[*********************100%***********************]  3 of 3 completed"
     ]
    },
    {
     "name": "stdout",
     "output_type": "stream",
     "text": [
      "circuit 55 converted to qasm\n",
      "circuit 55 converted to qiskit\n",
      "Circuit specs saved in circuit_specs.json\n",
      "Number of qubits for asset BA: 4\n",
      "Number of qubits for asset INTC: 7\n",
      "Number of qubits for asset TRV: 3\n",
      "Total number of qubits:  14\n",
      "circuit 56 constructed\n"
     ]
    },
    {
     "name": "stderr",
     "output_type": "stream",
     "text": [
      "\n",
      "[*********************100%***********************]  3 of 3 completed"
     ]
    },
    {
     "name": "stdout",
     "output_type": "stream",
     "text": [
      "circuit 56 converted to qasm\n",
      "circuit 56 converted to qiskit\n",
      "Circuit specs saved in circuit_specs.json\n",
      "Number of qubits for asset AXP: 5\n",
      "Number of qubits for asset CAT: 4\n",
      "Number of qubits for asset IBM: 5\n",
      "Total number of qubits:  14\n",
      "circuit 57 constructed\n"
     ]
    },
    {
     "name": "stderr",
     "output_type": "stream",
     "text": [
      "\n",
      "[*********************100%***********************]  3 of 3 completed"
     ]
    },
    {
     "name": "stdout",
     "output_type": "stream",
     "text": [
      "circuit 57 converted to qasm\n",
      "circuit 57 converted to qiskit\n",
      "Circuit specs saved in circuit_specs.json\n",
      "Number of qubits for asset BA: 5\n",
      "Number of qubits for asset GS: 4\n",
      "Number of qubits for asset PG: 5\n",
      "Total number of qubits:  14\n",
      "circuit 58 constructed\n"
     ]
    },
    {
     "name": "stderr",
     "output_type": "stream",
     "text": [
      "\n",
      "[*********************100%***********************]  3 of 3 completed"
     ]
    },
    {
     "name": "stdout",
     "output_type": "stream",
     "text": [
      "circuit 58 converted to qasm\n",
      "circuit 58 converted to qiskit\n",
      "Circuit specs saved in circuit_specs.json\n",
      "Number of qubits for asset DOW: 6\n",
      "Number of qubits for asset HON: 4\n",
      "Number of qubits for asset JNJ: 4\n",
      "Total number of qubits:  14\n",
      "circuit 59 constructed\n"
     ]
    },
    {
     "name": "stderr",
     "output_type": "stream",
     "text": [
      "\n",
      "[*********************100%***********************]  4 of 4 completed"
     ]
    },
    {
     "name": "stdout",
     "output_type": "stream",
     "text": [
      "circuit 59 converted to qasm\n",
      "circuit 59 converted to qiskit\n",
      "Circuit specs saved in circuit_specs.json\n",
      "Number of qubits for asset AAPL: 3\n",
      "Number of qubits for asset CVX: 4\n",
      "Number of qubits for asset GS: 2\n",
      "Number of qubits for asset MCD: 3\n",
      "Total number of qubits:  12\n",
      "circuit 60 constructed\n"
     ]
    },
    {
     "name": "stderr",
     "output_type": "stream",
     "text": [
      "\n",
      "[*********************100%***********************]  3 of 3 completed"
     ]
    },
    {
     "name": "stdout",
     "output_type": "stream",
     "text": [
      "circuit 60 converted to qasm\n",
      "circuit 60 converted to qiskit\n",
      "Circuit specs saved in circuit_specs.json\n",
      "Number of qubits for asset AAPL: 4\n",
      "Number of qubits for asset MMM: 5\n",
      "Number of qubits for asset UNH: 3\n",
      "Total number of qubits:  12\n",
      "circuit 61 constructed\n"
     ]
    },
    {
     "name": "stderr",
     "output_type": "stream",
     "text": [
      "\n",
      "[                       0%                       ]"
     ]
    },
    {
     "name": "stdout",
     "output_type": "stream",
     "text": [
      "circuit 61 converted to qasm\n",
      "circuit 61 converted to qiskit\n",
      "Circuit specs saved in circuit_specs.json\n"
     ]
    },
    {
     "name": "stderr",
     "output_type": "stream",
     "text": [
      "[*********************100%***********************]  2 of 2 completed\n"
     ]
    },
    {
     "name": "stdout",
     "output_type": "stream",
     "text": [
      "Number of qubits for asset AAPL: 5\n",
      "Number of qubits for asset KO: 7\n",
      "Total number of qubits:  12\n",
      "circuit 62 constructed\n"
     ]
    },
    {
     "name": "stderr",
     "output_type": "stream",
     "text": [
      "[*********************100%***********************]  3 of 3 completed"
     ]
    },
    {
     "name": "stdout",
     "output_type": "stream",
     "text": [
      "circuit 62 converted to qasm\n",
      "circuit 62 converted to qiskit\n",
      "Circuit specs saved in circuit_specs.json\n",
      "Number of qubits for asset CAT: 4\n",
      "Number of qubits for asset GS: 3\n",
      "Number of qubits for asset TRV: 5\n",
      "Total number of qubits:  12\n",
      "circuit 63 constructed\n"
     ]
    },
    {
     "name": "stderr",
     "output_type": "stream",
     "text": [
      "\n",
      "[*********************100%***********************]  3 of 3 completed"
     ]
    },
    {
     "name": "stdout",
     "output_type": "stream",
     "text": [
      "circuit 63 converted to qasm\n",
      "circuit 63 converted to qiskit\n",
      "Circuit specs saved in circuit_specs.json\n",
      "Number of qubits for asset CRM: 2\n",
      "Number of qubits for asset IBM: 3\n",
      "Number of qubits for asset WBA: 7\n",
      "Total number of qubits:  12\n",
      "circuit 64 constructed\n"
     ]
    },
    {
     "name": "stderr",
     "output_type": "stream",
     "text": [
      "\n",
      "[****************      33%                       ]  2 of 6 completed"
     ]
    },
    {
     "name": "stdout",
     "output_type": "stream",
     "text": [
      "circuit 64 converted to qasm\n",
      "circuit 64 converted to qiskit\n",
      "Circuit specs saved in circuit_specs.json\n"
     ]
    },
    {
     "name": "stderr",
     "output_type": "stream",
     "text": [
      "[*********************100%***********************]  6 of 6 completed\n"
     ]
    },
    {
     "name": "stdout",
     "output_type": "stream",
     "text": [
      "Number of qubits for asset CVX: 2\n",
      "Number of qubits for asset DIS: 3\n",
      "Number of qubits for asset HON: 2\n",
      "Number of qubits for asset JPM: 2\n",
      "Number of qubits for asset MCD: 1\n",
      "Number of qubits for asset PG: 2\n",
      "Total number of qubits:  12\n",
      "circuit 65 constructed\n"
     ]
    },
    {
     "name": "stderr",
     "output_type": "stream",
     "text": [
      "[*********************100%***********************]  2 of 2 completed"
     ]
    },
    {
     "name": "stdout",
     "output_type": "stream",
     "text": [
      "circuit 65 converted to qasm\n",
      "circuit 65 converted to qiskit\n",
      "Circuit specs saved in circuit_specs.json\n",
      "Number of qubits for asset INTC: 7\n",
      "Number of qubits for asset WMT: 5\n",
      "Total number of qubits:  12\n",
      "circuit 66 constructed\n"
     ]
    },
    {
     "name": "stderr",
     "output_type": "stream",
     "text": [
      "\n",
      "[*********************100%***********************]  3 of 3 completed"
     ]
    },
    {
     "name": "stdout",
     "output_type": "stream",
     "text": [
      "circuit 66 converted to qasm\n",
      "circuit 66 converted to qiskit\n",
      "Circuit specs saved in circuit_specs.json\n",
      "Number of qubits for asset JPM: 3\n",
      "Number of qubits for asset MCD: 3\n",
      "Number of qubits for asset VZ: 6\n",
      "Total number of qubits:  12\n",
      "circuit 67 constructed\n"
     ]
    },
    {
     "name": "stderr",
     "output_type": "stream",
     "text": [
      "\n",
      "[*********************100%***********************]  2 of 2 completed"
     ]
    },
    {
     "name": "stdout",
     "output_type": "stream",
     "text": [
      "circuit 67 converted to qasm\n",
      "circuit 67 converted to qiskit\n",
      "Circuit specs saved in circuit_specs.json\n",
      "Number of qubits for asset PG: 6\n",
      "Number of qubits for asset WMT: 6\n",
      "Total number of qubits:  12\n",
      "circuit 68 constructed\n"
     ]
    },
    {
     "name": "stderr",
     "output_type": "stream",
     "text": [
      "\n",
      "[*********************100%***********************]  3 of 3 completed"
     ]
    },
    {
     "name": "stdout",
     "output_type": "stream",
     "text": [
      "circuit 68 converted to qasm\n",
      "circuit 68 converted to qiskit\n",
      "Circuit specs saved in circuit_specs.json\n",
      "Number of qubits for asset HON: 3\n",
      "Number of qubits for asset INTC: 7\n",
      "Number of qubits for asset UNH: 2\n",
      "Total number of qubits:  12\n",
      "circuit 69 constructed\n"
     ]
    },
    {
     "name": "stderr",
     "output_type": "stream",
     "text": [
      "\n",
      "[*********************100%***********************]  2 of 2 completed"
     ]
    },
    {
     "name": "stdout",
     "output_type": "stream",
     "text": [
      "circuit 69 converted to qasm\n",
      "circuit 69 converted to qiskit\n",
      "Circuit specs saved in circuit_specs.json\n",
      "Number of qubits for asset DOW: 7\n",
      "Number of qubits for asset HON: 4\n",
      "Total number of qubits:  11\n",
      "circuit 70 constructed\n"
     ]
    },
    {
     "name": "stderr",
     "output_type": "stream",
     "text": [
      "\n",
      "[*********************100%***********************]  2 of 2 completed"
     ]
    },
    {
     "name": "stdout",
     "output_type": "stream",
     "text": [
      "circuit 70 converted to qasm\n",
      "circuit 70 converted to qiskit\n",
      "Circuit specs saved in circuit_specs.json\n",
      "Number of qubits for asset AAPL: 4\n",
      "Number of qubits for asset INTC: 7\n",
      "Total number of qubits:  11\n",
      "circuit 71 constructed\n"
     ]
    },
    {
     "name": "stderr",
     "output_type": "stream",
     "text": [
      "\n"
     ]
    },
    {
     "name": "stdout",
     "output_type": "stream",
     "text": [
      "circuit 71 converted to qasm\n",
      "circuit 71 converted to qiskit\n",
      "Circuit specs saved in circuit_specs.json\n"
     ]
    },
    {
     "name": "stderr",
     "output_type": "stream",
     "text": [
      "[*********************100%***********************]  3 of 3 completed\n"
     ]
    },
    {
     "name": "stdout",
     "output_type": "stream",
     "text": [
      "Number of qubits for asset JNJ: 5\n",
      "Number of qubits for asset MSFT: 3\n",
      "Number of qubits for asset UNH: 3\n",
      "Total number of qubits:  11\n",
      "circuit 72 constructed\n"
     ]
    },
    {
     "name": "stderr",
     "output_type": "stream",
     "text": [
      "[*********************100%***********************]  3 of 3 completed"
     ]
    },
    {
     "name": "stdout",
     "output_type": "stream",
     "text": [
      "circuit 72 converted to qasm\n",
      "circuit 72 converted to qiskit\n",
      "Circuit specs saved in circuit_specs.json\n",
      "Number of qubits for asset HON: 4\n",
      "Number of qubits for asset UNH: 3\n",
      "Number of qubits for asset V: 4\n",
      "Total number of qubits:  11\n",
      "circuit 73 constructed\n"
     ]
    },
    {
     "name": "stderr",
     "output_type": "stream",
     "text": [
      "\n",
      "[*********************100%***********************]  2 of 2 completed"
     ]
    },
    {
     "name": "stdout",
     "output_type": "stream",
     "text": [
      "circuit 73 converted to qasm\n",
      "circuit 73 converted to qiskit\n",
      "Circuit specs saved in circuit_specs.json\n",
      "Number of qubits for asset CRM: 4\n",
      "Number of qubits for asset VZ: 7\n",
      "Total number of qubits:  11\n",
      "circuit 74 constructed\n"
     ]
    },
    {
     "name": "stderr",
     "output_type": "stream",
     "text": [
      "\n",
      "[*********************100%***********************]  2 of 2 completed"
     ]
    },
    {
     "name": "stdout",
     "output_type": "stream",
     "text": [
      "circuit 74 converted to qasm\n",
      "circuit 74 converted to qiskit\n",
      "Circuit specs saved in circuit_specs.json\n",
      "Number of qubits for asset CSCO: 7\n",
      "Number of qubits for asset CVX: 5\n",
      "Total number of qubits:  12\n",
      "circuit 75 constructed\n"
     ]
    },
    {
     "name": "stderr",
     "output_type": "stream",
     "text": [
      "\n",
      "[*********************100%***********************]  2 of 2 completed"
     ]
    },
    {
     "name": "stdout",
     "output_type": "stream",
     "text": [
      "circuit 75 converted to qasm\n",
      "circuit 75 converted to qiskit\n",
      "Circuit specs saved in circuit_specs.json\n",
      "Number of qubits for asset TRV: 3\n",
      "Number of qubits for asset WBA: 8\n",
      "Total number of qubits:  11\n",
      "circuit 76 constructed\n"
     ]
    },
    {
     "name": "stderr",
     "output_type": "stream",
     "text": [
      "\n",
      "[*********************100%***********************]  2 of 2 completed"
     ]
    },
    {
     "name": "stdout",
     "output_type": "stream",
     "text": [
      "circuit 76 converted to qasm\n",
      "circuit 76 converted to qiskit\n",
      "Circuit specs saved in circuit_specs.json\n",
      "Number of qubits for asset JNJ: 6\n",
      "Number of qubits for asset V: 5\n",
      "Total number of qubits:  11\n",
      "circuit 77 constructed\n"
     ]
    },
    {
     "name": "stderr",
     "output_type": "stream",
     "text": [
      "\n",
      "[**********************60%****                   ]  3 of 5 completed"
     ]
    },
    {
     "name": "stdout",
     "output_type": "stream",
     "text": [
      "circuit 77 converted to qasm\n",
      "circuit 77 converted to qiskit\n",
      "Circuit specs saved in circuit_specs.json\n"
     ]
    },
    {
     "name": "stderr",
     "output_type": "stream",
     "text": [
      "[*********************100%***********************]  5 of 5 completed\n"
     ]
    },
    {
     "name": "stdout",
     "output_type": "stream",
     "text": [
      "Number of qubits for asset AMGN: 2\n",
      "Number of qubits for asset CRM: 2\n",
      "Number of qubits for asset JNJ: 3\n",
      "Number of qubits for asset JPM: 2\n",
      "Number of qubits for asset MSFT: 2\n",
      "Total number of qubits:  11\n",
      "circuit 78 constructed\n"
     ]
    },
    {
     "name": "stderr",
     "output_type": "stream",
     "text": [
      "[*********************100%***********************]  3 of 3 completed"
     ]
    },
    {
     "name": "stdout",
     "output_type": "stream",
     "text": [
      "circuit 78 converted to qasm\n",
      "circuit 78 converted to qiskit\n",
      "Circuit specs saved in circuit_specs.json\n",
      "Number of qubits for asset AMGN: 3\n",
      "Number of qubits for asset CSCO: 5\n",
      "Number of qubits for asset TRV: 3\n",
      "Total number of qubits:  11\n",
      "circuit 79 constructed\n"
     ]
    },
    {
     "name": "stderr",
     "output_type": "stream",
     "text": [
      "\n",
      "[*********************100%***********************]  4 of 4 completed"
     ]
    },
    {
     "name": "stdout",
     "output_type": "stream",
     "text": [
      "circuit 79 converted to qasm\n",
      "circuit 79 converted to qiskit\n",
      "Circuit specs saved in circuit_specs.json\n",
      "Number of qubits for asset HON: 1\n",
      "Number of qubits for asset KO: 3\n",
      "Number of qubits for asset PG: 2\n",
      "Number of qubits for asset TRV: 1\n",
      "Total number of qubits:  7\n",
      "circuit 80 constructed\n"
     ]
    },
    {
     "name": "stderr",
     "output_type": "stream",
     "text": [
      "\n",
      "[*********************100%***********************]  3 of 3 completed"
     ]
    },
    {
     "name": "stdout",
     "output_type": "stream",
     "text": [
      "circuit 80 converted to qasm\n",
      "circuit 80 converted to qiskit\n",
      "Circuit specs saved in circuit_specs.json\n",
      "Number of qubits for asset CAT: 2\n",
      "Number of qubits for asset IBM: 3\n",
      "Number of qubits for asset UNH: 2\n",
      "Total number of qubits:  7\n",
      "circuit 81 constructed\n",
      "circuit 81 converted to qasm\n"
     ]
    },
    {
     "name": "stderr",
     "output_type": "stream",
     "text": [
      "\n",
      "[*********************100%***********************]  2 of 2 completed"
     ]
    },
    {
     "name": "stdout",
     "output_type": "stream",
     "text": [
      "circuit 81 converted to qiskit\n",
      "Circuit specs saved in circuit_specs.json\n",
      "Number of qubits for asset JNJ: 4\n",
      "Number of qubits for asset TRV: 3\n",
      "Total number of qubits:  7\n",
      "circuit 82 constructed\n"
     ]
    },
    {
     "name": "stderr",
     "output_type": "stream",
     "text": [
      "\n",
      "[*********************100%***********************]  2 of 2 completed"
     ]
    },
    {
     "name": "stdout",
     "output_type": "stream",
     "text": [
      "circuit 82 converted to qasm\n",
      "circuit 82 converted to qiskit\n",
      "Circuit specs saved in circuit_specs.json\n",
      "Number of qubits for asset BA: 3\n",
      "Number of qubits for asset MMM: 4\n",
      "Total number of qubits:  7\n",
      "circuit 83 constructed\n",
      "circuit 83 converted to qasm\n",
      "circuit 83 converted to qiskit\n"
     ]
    },
    {
     "name": "stderr",
     "output_type": "stream",
     "text": [
      "\n",
      "[*********************100%***********************]  2 of 2 completed"
     ]
    },
    {
     "name": "stdout",
     "output_type": "stream",
     "text": [
      "Circuit specs saved in circuit_specs.json\n",
      "Number of qubits for asset GS: 3\n",
      "Number of qubits for asset MCD: 4\n",
      "Total number of qubits:  7\n",
      "circuit 84 constructed\n",
      "circuit 84 converted to qasm\n",
      "circuit 84 converted to qiskit\n",
      "Circuit specs saved in circuit_specs.json\n"
     ]
    },
    {
     "name": "stderr",
     "output_type": "stream",
     "text": [
      "\n",
      "[*********************100%***********************]  2 of 2 completed\n",
      "[                       0%                       ]"
     ]
    },
    {
     "name": "stdout",
     "output_type": "stream",
     "text": [
      "Number of qubits for asset CAT: 3\n",
      "Number of qubits for asset V: 4\n",
      "Total number of qubits:  7\n",
      "circuit 85 constructed\n",
      "circuit 85 converted to qasm\n",
      "circuit 85 converted to qiskit\n",
      "Circuit specs saved in circuit_specs.json\n"
     ]
    },
    {
     "name": "stderr",
     "output_type": "stream",
     "text": [
      "[*********************100%***********************]  4 of 4 completed\n",
      "[*********************100%***********************]  2 of 2 completed\n"
     ]
    },
    {
     "name": "stdout",
     "output_type": "stream",
     "text": [
      "Number of qubits for asset JPM: 1\n",
      "Number of qubits for asset KO: 3\n",
      "Number of qubits for asset TRV: 1\n",
      "Number of qubits for asset WMT: 2\n",
      "Total number of qubits:  7\n",
      "circuit 86 constructed\n",
      "circuit 86 converted to qasm\n",
      "circuit 86 converted to qiskit\n",
      "Circuit specs saved in circuit_specs.json\n",
      "Number of qubits for asset JPM: 2\n",
      "Number of qubits for asset VZ: 5\n",
      "Total number of qubits:  7\n",
      "circuit 87 constructed\n"
     ]
    },
    {
     "name": "stderr",
     "output_type": "stream",
     "text": [
      "[*********************100%***********************]  2 of 2 completed"
     ]
    },
    {
     "name": "stdout",
     "output_type": "stream",
     "text": [
      "circuit 87 converted to qasm\n",
      "circuit 87 converted to qiskit\n",
      "Circuit specs saved in circuit_specs.json\n",
      "Number of qubits for asset KO: 5\n",
      "Number of qubits for asset MSFT: 2\n",
      "Total number of qubits:  7\n",
      "circuit 88 constructed\n"
     ]
    },
    {
     "name": "stderr",
     "output_type": "stream",
     "text": [
      "\n",
      "[*********************100%***********************]  3 of 3 completed"
     ]
    },
    {
     "name": "stdout",
     "output_type": "stream",
     "text": [
      "circuit 88 converted to qasm\n",
      "circuit 88 converted to qiskit\n",
      "Circuit specs saved in circuit_specs.json\n",
      "Number of qubits for asset DIS: 3\n",
      "Number of qubits for asset PG: 2\n",
      "Number of qubits for asset TRV: 2\n",
      "Total number of qubits:  7\n",
      "circuit 89 constructed\n",
      "circuit 89 converted to qasm\n"
     ]
    },
    {
     "name": "stderr",
     "output_type": "stream",
     "text": [
      "\n",
      "[*********************100%***********************]  4 of 4 completed"
     ]
    },
    {
     "name": "stdout",
     "output_type": "stream",
     "text": [
      "circuit 89 converted to qiskit\n",
      "Circuit specs saved in circuit_specs.json\n",
      "Number of qubits for asset AXP: 1\n",
      "Number of qubits for asset JNJ: 2\n",
      "Number of qubits for asset JPM: 1\n",
      "Number of qubits for asset MRK: 2\n",
      "Total number of qubits:  6\n",
      "circuit 90 constructed\n",
      "circuit 90 converted to qasm\n"
     ]
    },
    {
     "name": "stderr",
     "output_type": "stream",
     "text": [
      "\n",
      "[*********************100%***********************]  2 of 2 completed\n"
     ]
    },
    {
     "name": "stdout",
     "output_type": "stream",
     "text": [
      "circuit 90 converted to qiskit\n",
      "Circuit specs saved in circuit_specs.json\n",
      "Number of qubits for asset MSFT: 3\n",
      "Number of qubits for asset TRV: 3\n",
      "Total number of qubits:  6\n",
      "circuit 91 constructed\n",
      "circuit 91 converted to qasm\n",
      "circuit 91 converted to qiskit\n",
      "Circuit specs saved in circuit_specs.json\n"
     ]
    },
    {
     "name": "stderr",
     "output_type": "stream",
     "text": [
      "[*********************100%***********************]  4 of 4 completed\n",
      "[*********************100%***********************]  3 of 3 completed\n"
     ]
    },
    {
     "name": "stdout",
     "output_type": "stream",
     "text": [
      "Number of qubits for asset AXP: 1\n",
      "Number of qubits for asset DIS: 3\n",
      "Number of qubits for asset HD: 1\n",
      "Number of qubits for asset UNH: 1\n",
      "Total number of qubits:  6\n",
      "circuit 92 constructed\n",
      "circuit 92 converted to qasm\n",
      "circuit 92 converted to qiskit\n",
      "Circuit specs saved in circuit_specs.json\n",
      "Number of qubits for asset BA: 3\n",
      "Number of qubits for asset MSFT: 2\n",
      "Number of qubits for asset UNH: 1\n",
      "Total number of qubits:  6\n",
      "circuit 93 constructed\n"
     ]
    },
    {
     "name": "stderr",
     "output_type": "stream",
     "text": [
      "[*********************100%***********************]  2 of 2 completed\n"
     ]
    },
    {
     "name": "stdout",
     "output_type": "stream",
     "text": [
      "circuit 93 converted to qasm\n",
      "circuit 93 converted to qiskit\n",
      "Circuit specs saved in circuit_specs.json\n",
      "Number of qubits for asset AMGN: 3\n",
      "Number of qubits for asset JPM: 3\n",
      "Total number of qubits:  6\n",
      "circuit 94 constructed\n",
      "circuit 94 converted to qasm\n",
      "circuit 94 converted to qiskit\n",
      "Circuit specs saved in circuit_specs.json\n"
     ]
    },
    {
     "name": "stderr",
     "output_type": "stream",
     "text": [
      "[*********************100%***********************]  2 of 2 completed\n",
      "[*********************100%***********************]  2 of 2 completed\n"
     ]
    },
    {
     "name": "stdout",
     "output_type": "stream",
     "text": [
      "Number of qubits for asset AAPL: 3\n",
      "Number of qubits for asset V: 3\n",
      "Total number of qubits:  6\n",
      "circuit 95 constructed\n",
      "circuit 95 converted to qasm\n",
      "circuit 95 converted to qiskit\n",
      "Circuit specs saved in circuit_specs.json\n",
      "Number of qubits for asset AAPL: 3\n",
      "Number of qubits for asset JPM: 3\n",
      "Total number of qubits:  6\n",
      "circuit 96 constructed\n",
      "circuit 96 converted to qasm\n",
      "circuit 96 converted to qiskit\n"
     ]
    },
    {
     "name": "stderr",
     "output_type": "stream",
     "text": [
      "[*********************100%***********************]  2 of 2 completed"
     ]
    },
    {
     "name": "stdout",
     "output_type": "stream",
     "text": [
      "Circuit specs saved in circuit_specs.json\n",
      "Number of qubits for asset MCD: 3\n",
      "Number of qubits for asset TRV: 3\n",
      "Total number of qubits:  6\n",
      "circuit 97 constructed\n"
     ]
    },
    {
     "name": "stderr",
     "output_type": "stream",
     "text": [
      "\n",
      "[*********************100%***********************]  2 of 2 completed\n"
     ]
    },
    {
     "name": "stdout",
     "output_type": "stream",
     "text": [
      "circuit 97 converted to qasm\n",
      "circuit 97 converted to qiskit\n",
      "Circuit specs saved in circuit_specs.json\n",
      "Number of qubits for asset AXP: 3\n",
      "Number of qubits for asset HD: 3\n",
      "Total number of qubits:  6\n",
      "circuit 98 constructed\n",
      "circuit 98 converted to qasm\n",
      "circuit 98 converted to qiskit\n",
      "Circuit specs saved in circuit_specs.json\n"
     ]
    },
    {
     "name": "stderr",
     "output_type": "stream",
     "text": [
      "[*********************100%***********************]  3 of 3 completed"
     ]
    },
    {
     "name": "stdout",
     "output_type": "stream",
     "text": [
      "Number of qubits for asset AAPL: 2\n",
      "Number of qubits for asset AMGN: 2\n",
      "Number of qubits for asset AXP: 2\n",
      "Total number of qubits:  6\n",
      "circuit 99 constructed\n",
      "circuit 99 converted to qasm\n",
      "circuit 99 converted to qiskit\n",
      "Circuit specs saved in circuit_specs.json\n"
     ]
    },
    {
     "name": "stderr",
     "output_type": "stream",
     "text": [
      "\n"
     ]
    }
   ],
   "source": [
    "start_index = 0\n",
    "for typ in [\"QUBO\"]:\n",
    "    if typ not in circuit_specs:\n",
    "        circuit_specs[typ] = {}\n",
    "    \n",
    "    for i, experiment in enumerate(experiments[start_index:]):\n",
    "        i += start_index\n",
    "        circuit_specs[typ][str(i)] = {}\n",
    "        stocks = experiment[\"stocks\"]\n",
    "        start = experiment[\"start\"]\n",
    "        end = experiment[\"end\"]\n",
    "        risk_aversion = 0.1\n",
    "        max_qubits = 15\n",
    "        budget = experiment[\"budget\"]\n",
    "\n",
    "        data = yf.download(stocks, start=start, end=end)\n",
    "        prices_now = data[\"Close\"].iloc[-1]\n",
    "        returns = data[\"Close\"].pct_change(fill_method=None).dropna(how=\"any\")\n",
    "        stocks = returns.columns\n",
    "        numpy_returns = returns.to_numpy()\n",
    "\n",
    "        expected_returns = mean_historical_return(returns, returns_data=True).to_numpy()\n",
    "        covariance_matrix = sample_cov(returns, returns_data=True).to_numpy()\n",
    "        if typ == \"QUBO\":\n",
    "            coskewness_tensor = None\n",
    "            cokurtosis_tensor = None\n",
    "        else:\n",
    "            coskewness_tensor = coskewness(numpy_returns)\n",
    "            cokurtosis_tensor = cokurtosis(numpy_returns)\n",
    "\n",
    "        portfolio_hubo = HigherOrderPortfolioQAOA(stocks=stocks,\n",
    "                                                prices_now=prices_now,\n",
    "                                                expected_returns=expected_returns, \n",
    "                                                covariance_matrix=covariance_matrix,\n",
    "                                                budget=budget,\n",
    "                                                max_qubits=max_qubits,\n",
    "                                                coskewness_tensor=coskewness_tensor, \n",
    "                                                cokurtosis_tensor=cokurtosis_tensor,\n",
    "                                                log_encoding=True,\n",
    "                                                risk_aversion=risk_aversion,\n",
    "                                                strict_budget_constraint=False)\n",
    "        n_qubits = portfolio_hubo.get_n_qubits()\n",
    "        circuit, probs_circuit = portfolio_hubo.get_compiled_QAOA_circuits()\n",
    "        #circuit.construct([portfolio_hubo.get_init_params()], {})\n",
    "        print(f\"circuit {i} constructed\")\n",
    "        #s = qml.specs(circuit)()\n",
    "        qtape = qml.workflow.construct_tape(circuit)(portfolio_hubo.get_init_params())\n",
    "        qasm_str = qtape.to_openqasm(rotations=False)\n",
    "        print(f\"circuit {i} converted to qasm\")\n",
    "        qiskit_circuit = qasm2.loads(qasm_str)\n",
    "        print(f\"circuit {i} converted to qiskit\")\n",
    "        #res_estimation = ResourceEstimation().run(qiskit_circuit)\n",
    "        gate_types = qiskit_circuit.count_ops()  # Get the count of each gate type\n",
    "\n",
    "        circuit_specs_alt = {\n",
    "            \"gate_types\": dict(gate_types),\n",
    "            \"depth\": qiskit_circuit.depth(),\n",
    "            \"num_wires\": qiskit_circuit.num_qubits,\n",
    "            \"num_gates\": qiskit_circuit.size(),\n",
    "            \"num_params\": sum(len(op.operation.params) for op in qiskit_circuit.data)  # Count trainable parameters\n",
    "        }\n",
    "        circuit_specs[typ][str(i)][\"specs\"] = circuit_specs_alt\n",
    "\n",
    "        with open(\"circuit_specs.json\", \"w\") as f:\n",
    "            json.dump(circuit_specs, f, indent=4)\n",
    "            \n",
    "        print(\"Circuit specs saved in circuit_specs.json\")\n",
    "        "
   ]
  },
  {
   "cell_type": "code",
   "execution_count": 3,
   "id": "5c304a35",
   "metadata": {},
   "outputs": [
    {
     "name": "stdout",
     "output_type": "stream",
     "text": [
      "OPENQASM 2.0;\n",
      "include \"qelib1.inc\";\n",
      "qreg q[2];\n",
      "creg c[2];\n",
      "h q[0];\n",
      "cx q[0],q[1];\n",
      "rx(0.3) q[1];\n",
      "measure q[0] -> c[0];\n",
      "measure q[1] -> c[1];\n",
      "\n"
     ]
    },
    {
     "name": "stderr",
     "output_type": "stream",
     "text": [
      "c:\\Users\\valte\\OneDrive - University of Helsinki\\Desktop\\quantum-portfolio\\venv\\lib\\site-packages\\pennylane\\workflow\\qnode.py:830: PennyLaneDeprecationWarning: The tape/qtape property is deprecated and will be removed in v0.41. Instead, use the qml.workflow.construct_tape function.\n",
      "  warnings.warn(\n"
     ]
    }
   ],
   "source": [
    "import pennylane as qml\n",
    "\n",
    "# Define a PennyLane device (doesn't have to be an actual backend for QASM export)\n",
    "dev = qml.device(\"default.qubit\", wires=2)\n",
    "\n",
    "@qml.qnode(dev)\n",
    "def circuit():\n",
    "    qml.Hadamard(wires=0)\n",
    "    qml.CNOT(wires=[0, 1])\n",
    "    qml.RX(0.3, wires=1)\n",
    "    return qml.probs(wires=[0, 1])\n",
    "\n",
    "\n",
    "circuit.construct([], {})  # Construct the circuit without execution\n",
    "\n",
    "qasm_str = circuit.qtape.to_openqasm()\n",
    "print(qasm_str)\n"
   ]
  }
 ],
 "metadata": {
  "kernelspec": {
   "display_name": "venv",
   "language": "python",
   "name": "python3"
  },
  "language_info": {
   "codemirror_mode": {
    "name": "ipython",
    "version": 3
   },
   "file_extension": ".py",
   "mimetype": "text/x-python",
   "name": "python",
   "nbconvert_exporter": "python",
   "pygments_lexer": "ipython3",
   "version": "3.10.11"
  }
 },
 "nbformat": 4,
 "nbformat_minor": 5
}
