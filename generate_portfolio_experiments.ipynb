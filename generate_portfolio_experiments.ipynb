{
 "cells": [
  {
   "cell_type": "code",
   "execution_count": 1,
   "metadata": {},
   "outputs": [
    {
     "name": "stderr",
     "output_type": "stream",
     "text": [
      "$GS-PK: possibly delisted; no price data found  (period=1d) (Yahoo error = \"No data found, symbol may be delisted\")\n"
     ]
    },
    {
     "name": "stdout",
     "output_type": "stream",
     "text": [
      "Available stocks:  30\n",
      "YF.download() has changed argument auto_adjust default to True\n"
     ]
    }
   ],
   "source": [
    "import json\n",
    "import yfinance as yf\n",
    "import random\n",
    "random.seed(0)\n",
    "from pytickersymbols import PyTickerSymbols\n",
    "\n",
    "def is_valid_ticker(ticker):\n",
    "    \"\"\"Check if a ticker exists by retrieving 1 day of historical data.\"\"\"\n",
    "    try:\n",
    "        data = yf.Ticker(ticker).history(period=\"1d\")\n",
    "        return not data.empty  # Valid if data is not empty\n",
    "    except:\n",
    "        return False  # Invalid ticker\n",
    "\n",
    "stock_data = PyTickerSymbols()\n",
    "stocks = list(stock_data.get_dow_jones_nyc_yahoo_tickers())\n",
    "stocks = [s for s in stocks if is_valid_ticker(s)]\n",
    "print(\"Available stocks: \", len(stocks))\n",
    "\n",
    "experiment_data = {}\n",
    "\n",
    "for experiment_id in range(6):\n",
    "    experiment_data[experiment_id] = []\n",
    "    for n_stocks in range(2, 15):\n",
    "        data_point = {}\n",
    "        sampled_stocks = random.sample(stocks, n_stocks)\n",
    "        start = \"2015-01-01\"\n",
    "        end = \"2025-01-01\"\n",
    "\n",
    "        data = yf.download(sampled_stocks, start=start, end=end, progress=False)\n",
    "        prices_now = data[\"Close\"].iloc[-1]\n",
    "        data_point[\"stocks\"] = sampled_stocks\n",
    "        data_point[\"start\"] = start\n",
    "        data_point[\"end\"] = end\n",
    "        data_point[\"n_stocks\"] = n_stocks\n",
    "        \n",
    "        experiment_data[experiment_id].append(data_point)\n",
    "\n",
    "with open(\"experiments_data.json\", \"w\") as f:\n",
    "    json.dump(experiment_data, f, indent=4)"
   ]
  }
 ],
 "metadata": {
  "kernelspec": {
   "display_name": "myenv2",
   "language": "python",
   "name": "python3"
  },
  "language_info": {
   "codemirror_mode": {
    "name": "ipython",
    "version": 3
   },
   "file_extension": ".py",
   "mimetype": "text/x-python",
   "name": "python",
   "nbconvert_exporter": "python",
   "pygments_lexer": "ipython3",
   "version": "3.10.12"
  }
 },
 "nbformat": 4,
 "nbformat_minor": 2
}
