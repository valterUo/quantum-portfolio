{
 "cells": [
  {
   "cell_type": "markdown",
   "metadata": {},
   "source": [
    "### Portfolio optimisation with higher-order moments using HUBO problems\n",
    "\n",
    "Moments are\n",
    "1. Mean\n",
    "2. Covariance\n",
    "3. co-Skewness\n",
    "4. co-Kurtosis\n",
    "\n",
    "Contibution of this work lies in the fact that previous research has only implemented \"simple\" quadratic models optimizing with respect to 1. and 2. whereas we aim to make the problem even harder and improve the quality of the solution by including 3. and 4.\n",
    "\n",
    "It seems that in some cases we could also select multiple assets. This would require changing the optimization problem to be an integer optimization."
   ]
  },
  {
   "cell_type": "markdown",
   "metadata": {},
   "source": [
    "#### Materials \n",
    "\n",
    "- [Options on portfolios with higher-order moments](http://dx.doi.org/10.1016/j.frl.2009.04.002)\n",
    "- [Qiskit portfolio optimization](https://qiskit-community.github.io/qiskit-finance/tutorials/01_portfolio_optimization.html)\n",
    "- [Coskewness on Wikipedia](https://en.wikipedia.org/wiki/Coskewness)\n",
    "- [Cokurtosis on Wikipedia](https://en.wikipedia.org/wiki/Cokurtosis)\n",
    "- [Portfolio theory with higher moments youtube video](https://www.youtube.com/watch?v=skmYLg7vk3g)"
   ]
  },
  {
   "cell_type": "markdown",
   "metadata": {},
   "source": [
    "Based on [Qiskit](https://qiskit-community.github.io/qiskit-finance/tutorials/01_portfolio_optimization.html), the standard two-moments portfolio optimization problem:\n",
    "    \n",
    "$$\n",
    "\\begin{aligned}\n",
    "\\min_{x \\in \\{0, 1\\}^n}  q x^T \\Sigma x - \\mu^T x \\\\\n",
    "\\text{subject to: } 1^T x = B\n",
    "\\end{aligned}\n",
    "$$\n",
    "\n",
    "where:\n",
    "\n",
    "- $x \\in \\{0, 1\\}^n$ denotes the vector of binary decision variables, which indicate which assets to pick ($x[i] = 1$) and which not to pick ($x[i] = 0$),\n",
    "- $\\mu \\in \\mathbb{R}^n$ defines the expected returns for the assets,\n",
    "- $\\Sigma \\in \\mathbb{R}^{n \\times n}$ specifies the covariances between the assets,\n",
    "- $q > 0$ controls the risk appetite of the decision maker,\n",
    "- and $B$ denotes the budget, i.e. the number of assets to be selected out of $n$.\n",
    "\n",
    "Then the same optimization problem with the higher-moments is\n",
    "\n",
    "$$\n",
    "\\begin{aligned}\n",
    "\\min_{x \\in \\{0, 1\\}^n} q_2 \\sum_{i=1}^{n} \\sum_{j=1}^{n} \\sum_{k=1}^{n} \\sum_{l=1}^{n} K_{ijkl} x_i x_j x_k x_l - q_1 \\sum_{i=1}^{n} \\sum_{j=1}^{n} \\sum_{k=1}^{n} S_{ijk} x_i x_j x_k +  q x^T \\Sigma x - \\mu^T x \\\\\n",
    "\\text{subject to: } 1^T x = B\n",
    "\\end{aligned}\n",
    "$$\n",
    "\n",
    "where\n",
    "\n",
    "- $K$ is the cokurtosis tensor,\n",
    "- $S$ is the coskewness tensor and\n",
    "- $q_1$ and $q_2$ are scaling values (they must have some interpretation in finance)\n",
    "\n",
    "If we have plenty of qubits i.e. variables available, we would also be able to encode optimization which selects not only a single same asset but max $N$ same assets."
   ]
  }
 ],
 "metadata": {
  "kernelspec": {
   "display_name": "venv",
   "language": "python",
   "name": "python3"
  },
  "language_info": {
   "codemirror_mode": {
    "name": "ipython",
    "version": 3
   },
   "file_extension": ".py",
   "mimetype": "text/x-python",
   "name": "python",
   "nbconvert_exporter": "python",
   "pygments_lexer": "ipython3",
   "version": "3.10.11"
  }
 },
 "nbformat": 4,
 "nbformat_minor": 2
}
