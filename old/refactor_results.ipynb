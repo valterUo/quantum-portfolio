{
 "cells": [
  {
   "cell_type": "code",
   "execution_count": 1,
   "metadata": {},
   "outputs": [
    {
     "name": "stdout",
     "output_type": "stream",
     "text": [
      "Loaded 100 cases.\n"
     ]
    }
   ],
   "source": [
    "import json\n",
    "import os\n",
    "\n",
    "def load_json(file_path):\n",
    "    with open(file_path, 'r') as f:\n",
    "        return json.load(f)\n",
    "\n",
    "data = {}\n",
    "path = \"results/cmaes_hubo_results\"\n",
    "files = [file for file in os.listdir(f\"./{path}/\") if \"portfolio_optimization_results_batch_\" in file]\n",
    "for file in files:\n",
    "    data.update(load_json(f\"./{path}/\" + file))\n",
    "\n",
    "print(f\"Loaded {len(data)} cases.\")\n",
    "\n",
    "filtered_data = {}\n",
    "\n",
    "for key, value in data.items():\n",
    "    filtered_data[key] = {}\n",
    "    filtered_data[key][\"hyperparams\"] = value[\"hyperparams\"]\n",
    "    filtered_data[key][\"exact_solution\"] = value[\"exact_solution\"]\n",
    "\n",
    "# Sort the data by the keys\n",
    "filtered_data = dict(sorted(filtered_data.items()))\n",
    "\n",
    "# Save the filtered data to json file\n",
    "\n",
    "filtered_data_path = f\"results/exact_eigensolver/filtered_portfolio_optimization_results.json\"\n",
    "with open(filtered_data_path, 'w') as f:\n",
    "    json.dump(filtered_data, f, indent=4)"
   ]
  },
  {
   "cell_type": "code",
   "execution_count": 2,
   "metadata": {},
   "outputs": [
    {
     "ename": "FileNotFoundError",
     "evalue": "[Errno 2] No such file or directory: './classical_constrained/filtered_portfolio_optimization_results.json'",
     "output_type": "error",
     "traceback": [
      "\u001b[0;31m---------------------------------------------------------------------------\u001b[0m",
      "\u001b[0;31mFileNotFoundError\u001b[0m                         Traceback (most recent call last)",
      "Cell \u001b[0;32mIn[2], line 3\u001b[0m\n\u001b[1;32m      1\u001b[0m filtered_data_path \u001b[38;5;241m=\u001b[39m \u001b[38;5;124mf\u001b[39m\u001b[38;5;124m\"\u001b[39m\u001b[38;5;124m./classical_constrained/filtered_portfolio_optimization_results.json\u001b[39m\u001b[38;5;124m\"\u001b[39m\n\u001b[1;32m      2\u001b[0m filtered_data_path2 \u001b[38;5;241m=\u001b[39m \u001b[38;5;124mf\u001b[39m\u001b[38;5;124m\"\u001b[39m\u001b[38;5;124m./classical_unconstrained/filtered_portfolio_optimization_results.json\u001b[39m\u001b[38;5;124m\"\u001b[39m\n\u001b[0;32m----> 3\u001b[0m data1 \u001b[38;5;241m=\u001b[39m \u001b[43mload_json\u001b[49m\u001b[43m(\u001b[49m\u001b[43mfiltered_data_path\u001b[49m\u001b[43m)\u001b[49m\n\u001b[1;32m      4\u001b[0m data2 \u001b[38;5;241m=\u001b[39m load_json(filtered_data_path2)\n\u001b[1;32m      6\u001b[0m \u001b[38;5;66;03m# Compare the two data sets\u001b[39;00m\n",
      "Cell \u001b[0;32mIn[1], line 5\u001b[0m, in \u001b[0;36mload_json\u001b[0;34m(file_path)\u001b[0m\n\u001b[1;32m      4\u001b[0m \u001b[38;5;28;01mdef\u001b[39;00m\u001b[38;5;250m \u001b[39m\u001b[38;5;21mload_json\u001b[39m(file_path):\n\u001b[0;32m----> 5\u001b[0m     \u001b[38;5;28;01mwith\u001b[39;00m \u001b[38;5;28;43mopen\u001b[39;49m\u001b[43m(\u001b[49m\u001b[43mfile_path\u001b[49m\u001b[43m,\u001b[49m\u001b[43m \u001b[49m\u001b[38;5;124;43m'\u001b[39;49m\u001b[38;5;124;43mr\u001b[39;49m\u001b[38;5;124;43m'\u001b[39;49m\u001b[43m)\u001b[49m \u001b[38;5;28;01mas\u001b[39;00m f:\n\u001b[1;32m      6\u001b[0m         \u001b[38;5;28;01mreturn\u001b[39;00m json\u001b[38;5;241m.\u001b[39mload(f)\n",
      "File \u001b[0;32m~/Desktop/quantum-portfolio/myenv/lib/python3.10/site-packages/IPython/core/interactiveshell.py:324\u001b[0m, in \u001b[0;36m_modified_open\u001b[0;34m(file, *args, **kwargs)\u001b[0m\n\u001b[1;32m    317\u001b[0m \u001b[38;5;28;01mif\u001b[39;00m file \u001b[38;5;129;01min\u001b[39;00m {\u001b[38;5;241m0\u001b[39m, \u001b[38;5;241m1\u001b[39m, \u001b[38;5;241m2\u001b[39m}:\n\u001b[1;32m    318\u001b[0m     \u001b[38;5;28;01mraise\u001b[39;00m \u001b[38;5;167;01mValueError\u001b[39;00m(\n\u001b[1;32m    319\u001b[0m         \u001b[38;5;124mf\u001b[39m\u001b[38;5;124m\"\u001b[39m\u001b[38;5;124mIPython won\u001b[39m\u001b[38;5;124m'\u001b[39m\u001b[38;5;124mt let you open fd=\u001b[39m\u001b[38;5;132;01m{\u001b[39;00mfile\u001b[38;5;132;01m}\u001b[39;00m\u001b[38;5;124m by default \u001b[39m\u001b[38;5;124m\"\u001b[39m\n\u001b[1;32m    320\u001b[0m         \u001b[38;5;124m\"\u001b[39m\u001b[38;5;124mas it is likely to crash IPython. If you know what you are doing, \u001b[39m\u001b[38;5;124m\"\u001b[39m\n\u001b[1;32m    321\u001b[0m         \u001b[38;5;124m\"\u001b[39m\u001b[38;5;124myou can use builtins\u001b[39m\u001b[38;5;124m'\u001b[39m\u001b[38;5;124m open.\u001b[39m\u001b[38;5;124m\"\u001b[39m\n\u001b[1;32m    322\u001b[0m     )\n\u001b[0;32m--> 324\u001b[0m \u001b[38;5;28;01mreturn\u001b[39;00m \u001b[43mio_open\u001b[49m\u001b[43m(\u001b[49m\u001b[43mfile\u001b[49m\u001b[43m,\u001b[49m\u001b[43m \u001b[49m\u001b[38;5;241;43m*\u001b[39;49m\u001b[43margs\u001b[49m\u001b[43m,\u001b[49m\u001b[43m \u001b[49m\u001b[38;5;241;43m*\u001b[39;49m\u001b[38;5;241;43m*\u001b[39;49m\u001b[43mkwargs\u001b[49m\u001b[43m)\u001b[49m\n",
      "\u001b[0;31mFileNotFoundError\u001b[0m: [Errno 2] No such file or directory: './classical_constrained/filtered_portfolio_optimization_results.json'"
     ]
    }
   ],
   "source": [
    "filtered_data_path = f\"./classical_constrained/filtered_portfolio_optimization_results.json\"\n",
    "filtered_data_path2 = f\"./classical_unconstrained/filtered_portfolio_optimization_results.json\"\n",
    "data1 = load_json(filtered_data_path)\n",
    "data2 = load_json(filtered_data_path2)\n",
    "\n",
    "# Compare the two data sets\n",
    "for key in data1.keys():\n",
    "    sol = data1[key][\"continuous_variables_solution\"]\n",
    "    if key in data2:\n",
    "        sol2 = data2[key][\"continuous_variables_solution_unconstrained\"]\n",
    "        allocation1 = set(sol[\"allocation\"].items())\n",
    "        allocation2 = set(sol2[\"allocation\"].items())\n",
    "        if allocation1 != allocation2:\n",
    "            print(f\"Key: {key}\")\n",
    "            print(f\"Constrained: {allocation1}\")\n",
    "            print(f\"Unconstrained: {allocation2}\")\n",
    "            print(\"Left overs constrained:\", sol[\"left_overs\"])\n",
    "            print(\"Left overs unconstrained:\", sol2[\"left_overs\"])\n",
    "            print(sum(sol2[\"weights\"].values()))\n",
    "            used_budget = 0\n",
    "            for stock, weight in allocation2:\n",
    "                used_budget += weight * data1[key][\"hyperparams\"][\"prices_now\"][stock]\n",
    "            print(\"Used budget: \", used_budget)\n",
    "            print(\"Budget: \", data1[key][\"hyperparams\"][\"budget\"])\n",
    "            print()\n"
   ]
  }
 ],
 "metadata": {
  "kernelspec": {
   "display_name": "myenv",
   "language": "python",
   "name": "python3"
  },
  "language_info": {
   "codemirror_mode": {
    "name": "ipython",
    "version": 3
   },
   "file_extension": ".py",
   "mimetype": "text/x-python",
   "name": "python",
   "nbconvert_exporter": "python",
   "pygments_lexer": "ipython3",
   "version": "3.10.12"
  }
 },
 "nbformat": 4,
 "nbformat_minor": 2
}
