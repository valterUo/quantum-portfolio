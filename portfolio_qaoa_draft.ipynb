{
 "cells": [
  {
   "cell_type": "code",
   "execution_count": 1,
   "metadata": {},
   "outputs": [
    {
     "name": "stderr",
     "output_type": "stream",
     "text": [
      "[*********************100%***********************]  3 of 3 completed"
     ]
    },
    {
     "name": "stdout",
     "output_type": "stream",
     "text": [
      "Ticker\n",
      "AMZN    151.940002\n",
      "CAT     289.939758\n",
      "IBM     156.799332\n",
      "Name: 2023-12-29 00:00:00, dtype: float64\n",
      "Ticker\n",
      "AMZN    0.000214\n",
      "CAT     0.000900\n",
      "IBM     0.000712\n",
      "dtype: float64\n",
      "[0.05393377 0.22692002 0.17942043]\n",
      "455.82000732421875\n",
      "Number of qubits for asset AMZN: 2\n",
      "Number of qubits for asset CAT: 1\n",
      "Number of qubits for asset IBM: 2\n",
      "Number of qubits per asset:  {'AMZN': 2, 'CAT': 1, 'IBM': 2}\n",
      "Constructing cost hubo with integer variables\n",
      "Optimized Weights (considering variance, skewness and kurtosis):\n",
      "AMZN: 17.06%\n",
      "CAT: 53.43%\n",
      "IBM: 29.51%\n",
      "Left over budget:  9.080917329977126\n",
      "Optimized Discrete Allocation:\n",
      "CAT: 1\n",
      "IBM: 1\n",
      "Maximized utility from classical higher moments:  32.04574801808301\n",
      "Adding budget constraints to the cost function -> constructing full hubo problem\n",
      "Replacing integer variables with binary variables\n",
      "Simplifying the binary cost function\n",
      "Converting binary cost function to Ising Hamiltonian\n",
      "Constructing QAOA circuits\n"
     ]
    },
    {
     "name": "stderr",
     "output_type": "stream",
     "text": [
      "\n"
     ]
    }
   ],
   "source": [
    "import numpy as np\n",
    "import yfinance as yf\n",
    "from coskweness_cokurtosis import coskewness, cokurtosis\n",
    "from portfolio_hubo_qaoa import HigherOrderPortfolioQAOA\n",
    "import random\n",
    "random.seed(4)\n",
    "\n",
    "n_stocks = 3\n",
    "stocks = [\"AAPL\", \"GOOGL\", \"MSFT\", \"AMZN\", \"META\", \"TSLA\", \"WMT\", \"CAT\", \"KO\", \"IBM\", \"INTC\", \"CSCO\", \"ORCL\", \"QCOM\", \n",
    "          \"NVDA\", \"ADBE\", \"PYPL\", \"CRM\", \"ACN\", \"TXN\", \"AVGO\", \"INTU\", \"AMAT\", \"MU\"]\n",
    "stocks = random.sample(stocks, n_stocks)\n",
    "\n",
    "data = yf.download(stocks, start=\"2021-01-01\", end=\"2024-01-01\")\n",
    "prices_now = data[\"Close\"].iloc[-1]\n",
    "print(prices_now)\n",
    "returns = data[\"Close\"].pct_change().dropna()\n",
    "stocks = returns.columns\n",
    "\n",
    "numpy_returns = returns.to_numpy()\n",
    "expected_returns = numpy_returns.mean(axis=0)*252\n",
    "print(returns.mean())\n",
    "print(expected_returns)\n",
    "covariance_matrix = np.cov(numpy_returns, rowvar=False)*252\n",
    "coskewness_tensor = coskewness(numpy_returns)#*(252**2)\n",
    "cokurtosis_tensor = cokurtosis(numpy_returns)#*(252**3)\n",
    "\n",
    "# Budget in dollars\n",
    "# We compute the maximum number of shares we can buy for each stock\n",
    "# At most n_qubits for each stock\n",
    "n_qubits = 3\n",
    "cheapest_stock = prices_now.min()\n",
    "budget = n_qubits*cheapest_stock\n",
    "print(budget)\n",
    "\n",
    "risk_aversion = 3\n",
    "\n",
    "portfolio_hubo = HigherOrderPortfolioQAOA(stocks=stocks,\n",
    "                                          prices_now=prices_now,\n",
    "                                          expected_returns=expected_returns, \n",
    "                                          covariance_matrix=covariance_matrix,\n",
    "                                          budget=budget,\n",
    "                                          coskewness_tensor=coskewness_tensor, \n",
    "                                          cokurtosis_tensor=cokurtosis_tensor,\n",
    "                                          log_encoding = True, \n",
    "                                          layers = 5,\n",
    "                                          risk_aversion = risk_aversion)\n",
    "\n",
    "smallest_eigenvalues, smallest_bitstrings, first_excited_energy, optimized_portfolio, second_optimized_portfolio = portfolio_hubo.solve_exactly()"
   ]
  },
  {
   "cell_type": "code",
   "execution_count": 2,
   "metadata": {},
   "outputs": [
    {
     "name": "stdout",
     "output_type": "stream",
     "text": [
      "[np.float64(-6658157.019803236)]\n",
      "[[1, 1, 0, 0, 0]]\n",
      "-6657450.086190378\n",
      "Best:  [{'AMZN': 3, 'CAT': 0, 'IBM': 0}]\n",
      "Second best:  [{'AMZN': 2, 'CAT': 0, 'IBM': 1}]\n",
      "objective value:  48.262343550432576\n"
     ]
    }
   ],
   "source": [
    "print(smallest_eigenvalues)\n",
    "print(smallest_bitstrings)\n",
    "print(first_excited_energy)\n",
    "print(\"Best: \", optimized_portfolio)\n",
    "print(\"Second best: \", second_optimized_portfolio)\n",
    "print(\"objective value: \", portfolio_hubo.get_objective_value(stocks, optimized_portfolio[0]))"
   ]
  },
  {
   "cell_type": "code",
   "execution_count": null,
   "metadata": {},
   "outputs": [
    {
     "name": "stdout",
     "output_type": "stream",
     "text": [
      "Trying with 1 layers\n"
     ]
    }
   ],
   "source": [
    "two_most_probable_states, smallest_eigenvalue, params, total_steps, states_probs, optimized_portfolios = portfolio_hubo.solve_with_iterative_QAOA(max_layers=5)"
   ]
  },
  {
   "cell_type": "code",
   "execution_count": null,
   "metadata": {},
   "outputs": [
    {
     "name": "stdout",
     "output_type": "stream",
     "text": [
      "['1010', '1001']\n",
      "-236.73045377737114\n",
      "[[ 0.05488863  1.69755863  1.28786653  1.61175958  1.33918021]\n",
      " [-0.54515017 -0.4550527   2.15697143  0.21207511  0.06597024]]\n",
      "1000\n",
      "[tensor(0.1658505, requires_grad=True), tensor(0.40148811, requires_grad=True)]\n",
      "[{'CAT': 1, 'IBM': 1}, {'CAT': 1, 'IBM': 2}]\n"
     ]
    }
   ],
   "source": [
    "print(two_most_probable_states)\n",
    "print(smallest_eigenvalue)\n",
    "print(params)\n",
    "print(total_steps)\n",
    "print(states_probs)\n",
    "print(optimized_portfolios)"
   ]
  },
  {
   "cell_type": "code",
   "execution_count": null,
   "metadata": {},
   "outputs": [
    {
     "name": "stdout",
     "output_type": "stream",
     "text": [
      "Optimized weights:\n",
      "CAT: 64.36%\n",
      "IBM: 35.64%\n"
     ]
    }
   ],
   "source": [
    "from portfolio_higher_moments_classical import HigherMomentPortfolioOptimizer\n",
    "\n",
    "\n",
    "hef = HigherMomentPortfolioOptimizer(expected_returns=expected_returns, \n",
    "                                     covariance_matrix=covariance_matrix, \n",
    "                                     coskewness=coskewness_tensor, \n",
    "                                     cokurtosis=cokurtosis_tensor, \n",
    "                                     risk_aversion=risk_aversion)\n",
    "\n",
    "weights = hef.optimize_portfolio_with_higher_moments()\n",
    "print(\"Optimized weights:\")\n",
    "for asset, weight in zip(stocks, weights):\n",
    "    print(f\"{asset}: {weight:.2%}\")"
   ]
  }
 ],
 "metadata": {
  "kernelspec": {
   "display_name": "venv",
   "language": "python",
   "name": "python3"
  },
  "language_info": {
   "codemirror_mode": {
    "name": "ipython",
    "version": 3
   },
   "file_extension": ".py",
   "mimetype": "text/x-python",
   "name": "python",
   "nbconvert_exporter": "python",
   "pygments_lexer": "ipython3",
   "version": "3.10.11"
  }
 },
 "nbformat": 4,
 "nbformat_minor": 2
}
