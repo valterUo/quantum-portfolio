{
 "cells": [
  {
   "cell_type": "code",
   "execution_count": null,
   "metadata": {},
   "outputs": [],
   "source": [
    "import numpy as np\n",
    "import yfinance as yf\n",
    "from coskweness_cokurtosis import coskewness, cokurtosis\n",
    "from portfolio_hubo_qaoa import HigherOrderPortfolioQAOA\n",
    "import random\n",
    "random.seed(5)\n",
    "\n",
    "n_stocks = 3\n",
    "stocks = [\"AAPL\", \"GOOGL\", \"MSFT\", \"AMZN\", \"META\", \"TSLA\", \"WMT\", \"CAT\", \"KO\", \"IBM\", \"INTC\", \"CSCO\", \"ORCL\", \"QCOM\", \n",
    "          \"NVDA\", \"ADBE\", \"PYPL\", \"CRM\", \"ACN\", \"TXN\", \"AVGO\", \"INTU\", \"AMAT\", \"MU\"]\n",
    "stocks = random.sample(stocks, n_stocks)\n",
    "\n",
    "data = yf.download(stocks, start=\"2021-01-01\", end=\"2024-01-01\")\n",
    "prices_now = data[\"Close\"].iloc[-1]\n",
    "print(prices_now)\n",
    "returns = data[\"Close\"].pct_change().dropna()\n",
    "stocks = returns.columns\n",
    "\n",
    "numpy_returns = returns.to_numpy()\n",
    "expected_returns = numpy_returns.mean(axis=0)*252\n",
    "print(returns.mean())\n",
    "print(expected_returns)\n",
    "covariance_matrix = np.cov(numpy_returns, rowvar=False)*252\n",
    "coskewness_tensor = coskewness(numpy_returns)#*(252**2)\n",
    "cokurtosis_tensor = cokurtosis(numpy_returns)#*(252**3)\n",
    "\n",
    "# Budget in dollars\n",
    "# We compute the maximum number of shares we can buy for each stock\n",
    "# At most n_qubits for each stock\n",
    "n_qubits = 4\n",
    "cheapest_stock = prices_now.min()\n",
    "budget = n_qubits*cheapest_stock\n",
    "print(budget)\n",
    "\n",
    "risk_aversion = 3\n",
    "\n",
    "portfolio_hubo = HigherOrderPortfolioQAOA(stocks=stocks,\n",
    "                                          prices_now=prices_now,\n",
    "                                          expected_returns=expected_returns, \n",
    "                                          covariance_matrix=covariance_matrix,\n",
    "                                          budget=budget,\n",
    "                                          coskewness_tensor=coskewness_tensor, \n",
    "                                          cokurtosis_tensor=cokurtosis_tensor,\n",
    "                                          log_encoding = True, \n",
    "                                          layers = 1,\n",
    "                                          risk_aversion = risk_aversion)\n",
    "\n",
    "smallest_eigenvalues, smallest_bitstrings, first_excited_energy, optimized_portfolio, second_optimized_portfolio = portfolio_hubo.solve_exactly()"
   ]
  },
  {
   "cell_type": "code",
   "execution_count": null,
   "metadata": {},
   "outputs": [
    {
     "name": "stdout",
     "output_type": "stream",
     "text": [
      "[np.float64(-17657567.405618757)]\n",
      "[[1, 0, 0, 1, 0]]\n",
      "-17641740.71959126\n",
      "Best:  [{'KO': 1, 'MU': 2, 'TXN': 0}]\n",
      "Second best:  [{'KO': 1, 'MU': 0, 'TXN': 1}]\n",
      "objective value 1:  -12.046821326974943\n",
      "objective value 2:  -1.689788650703018\n"
     ]
    }
   ],
   "source": [
    "print(smallest_eigenvalues)\n",
    "print(smallest_bitstrings)\n",
    "print(first_excited_energy)\n",
    "print(\"Best: \", optimized_portfolio)\n",
    "print(\"Second best: \", second_optimized_portfolio)\n",
    "print(\"objective value 1: \", portfolio_hubo.get_objective_value(stocks, optimized_portfolio[0]))\n",
    "print(\"objective value 2: \", portfolio_hubo.get_objective_value(stocks, second_optimized_portfolio[0]))"
   ]
  },
  {
   "cell_type": "code",
   "execution_count": null,
   "metadata": {},
   "outputs": [
    {
     "name": "stdout",
     "output_type": "stream",
     "text": [
      "Most probable state: 01111 and [[1, 0, 0, 1, 0]] with probs 01111\n",
      "Most probable state: 11010 and [[1, 0, 0, 1, 0]] with probs 11010\n",
      "Most probable state: 10010 and [[1, 0, 0, 1, 0]] with probs 10010\n",
      "Two most probable states: ['11111', '10010'] with probabilities [Array(0.03208242, dtype=float32), Array(0.0324635, dtype=float32)]\n",
      "Optimized portfolios: [{'KO': 3, 'MU': 3, 'TXN': 1}, {'KO': 1, 'MU': 2, 'TXN': 0}]\n",
      "Budget constraint not satisfied 591.0028343200684 228.7340850830078 Difference:  362.26874923706055\n",
      "Budget constraint satisfied 227.13750076293945 228.7340850830078 Difference:  1.5965843200683594\n",
      "Final expectation value: -9419828.0\n",
      "Objective values: [np.float64(-427.89801772090607), np.float64(-12.046821326974943)]\n"
     ]
    },
    {
     "data": {
      "text/plain": [
       "(['11111', '10010'],\n",
       " Array(-9419828., dtype=float32),\n",
       " Array([[-0.02238139],\n",
       "        [-0.00596312]], dtype=float32),\n",
       " 30,\n",
       " [Array(0.03208242, dtype=float32), Array(0.0324635, dtype=float32)],\n",
       " [{'KO': 3, 'MU': 3, 'TXN': 1}, {'KO': 1, 'MU': 2, 'TXN': 0}])"
      ]
     },
     "execution_count": 3,
     "metadata": {},
     "output_type": "execute_result"
    }
   ],
   "source": [
    "portfolio_hubo.solve_with_qaoa_jax()"
   ]
  },
  {
   "cell_type": "code",
   "execution_count": null,
   "metadata": {},
   "outputs": [],
   "source": [
    "#two_most_probable_states, smallest_eigenvalue, params, total_steps, states_probs, optimized_portfolios = portfolio_hubo.solve_with_iterative_QAOA(max_layers=1)"
   ]
  },
  {
   "cell_type": "code",
   "execution_count": null,
   "metadata": {},
   "outputs": [
    {
     "name": "stdout",
     "output_type": "stream",
     "text": [
      "Optimized weights:\n",
      "KO: 29.56%\n",
      "MU: 33.01%\n",
      "TXN: 37.43%\n",
      "Left over budget:  29.390052771718985\n",
      "Ratio of left over budget:  0.12849004450322\n",
      "Optimized Discrete Allocation:\n",
      "KO: 2\n",
      "MU: 1\n",
      "objective value:  -1.3393356320931435\n"
     ]
    }
   ],
   "source": [
    "from portfolio_higher_moments_classical import HigherMomentPortfolioOptimizer\n",
    "\n",
    "\n",
    "hef = HigherMomentPortfolioOptimizer(stocks= stocks,\n",
    "                                     expected_returns=expected_returns, \n",
    "                                     covariance_matrix=covariance_matrix, \n",
    "                                     coskewness=coskewness_tensor, \n",
    "                                     cokurtosis=cokurtosis_tensor, \n",
    "                                     risk_aversion=risk_aversion)\n",
    "\n",
    "weights = hef.optimize_portfolio_with_higher_moments()\n",
    "print(\"Optimized weights:\")\n",
    "for asset, weight in zip(stocks, weights):\n",
    "    print(f\"{asset}: {weight:.2%}\")\n",
    "    \n",
    "allocation, left_overs = hef.get_discrete_allocation(prices_now, budget)\n",
    "print(\"Left over budget: \", left_overs)\n",
    "print(\"Ratio of left over budget: \", left_overs/budget)\n",
    "\n",
    "print(\"Optimized Discrete Allocation:\")\n",
    "for asset, amount in allocation.items():\n",
    "    print(f\"{asset}: {amount}\")\n",
    "    \n",
    "value = portfolio_hubo.get_objective_value(stocks, allocation)\n",
    "print(\"objective value: \", value)"
   ]
  }
 ],
 "metadata": {
  "kernelspec": {
   "display_name": "myenv2",
   "language": "python",
   "name": "python3"
  },
  "language_info": {
   "codemirror_mode": {
    "name": "ipython",
    "version": 3
   },
   "file_extension": ".py",
   "mimetype": "text/x-python",
   "name": "python",
   "nbconvert_exporter": "python",
   "pygments_lexer": "ipython3",
   "version": "3.10.12"
  }
 },
 "nbformat": 4,
 "nbformat_minor": 2
}
