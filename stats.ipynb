{
 "cells": [
  {
   "cell_type": "code",
   "execution_count": 1,
   "id": "791d5d37",
   "metadata": {},
   "outputs": [
    {
     "name": "stdout",
     "output_type": "stream",
     "text": [
      "Found 100 JSON files to analyze\n",
      "Successfully loaded 100 portfolio optimization results\n",
      "Report saved to ./quantum_portfolio_analysis\\quantum_portfolio_report.md\n",
      "Analysis completed. Results saved to ./quantum_portfolio_analysis\n"
     ]
    }
   ],
   "source": [
    "\"\"\"Main function to demonstrate usage.\"\"\"\n",
    "# Replace with your actual data directory\n",
    "import os\n",
    "from quantum_portfolio_stats import QuantumPortfolioStats\n",
    "\n",
    "\n",
    "data_dir = \"./cmaes_hubo_results_finals\"\n",
    "\n",
    "# Initialize analyzer\n",
    "analyzer = QuantumPortfolioStats(data_dir)\n",
    "\n",
    "# Load data and compute all statistics\n",
    "analyzer.load_data()\n",
    "analyzer.compute_all_stats()\n",
    "\n",
    "# Create output directory for visualizations\n",
    "output_dir = \"./quantum_portfolio_analysis\"\n",
    "os.makedirs(output_dir, exist_ok=True)\n",
    "\n",
    "# Generate visualizations\n",
    "analyzer.visualize_results(output_dir)\n",
    "\n",
    "# Generate and save report\n",
    "analyzer.generate_report(os.path.join(output_dir, \"quantum_portfolio_report.md\"))\n",
    "\n",
    "print(f\"Analysis completed. Results saved to {output_dir}\")"
   ]
  }
 ],
 "metadata": {
  "kernelspec": {
   "display_name": "venv",
   "language": "python",
   "name": "python3"
  },
  "language_info": {
   "codemirror_mode": {
    "name": "ipython",
    "version": 3
   },
   "file_extension": ".py",
   "mimetype": "text/x-python",
   "name": "python",
   "nbconvert_exporter": "python",
   "pygments_lexer": "ipython3",
   "version": "3.10.11"
  }
 },
 "nbformat": 4,
 "nbformat_minor": 5
}
