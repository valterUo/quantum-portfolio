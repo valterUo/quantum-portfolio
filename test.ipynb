{
 "cells": [
  {
   "cell_type": "code",
   "execution_count": 5,
   "metadata": {},
   "outputs": [
    {
     "name": "stdout",
     "output_type": "stream",
     "text": [
      "progress so far  0.13258426966292136\n"
     ]
    }
   ],
   "source": [
    "import json\n",
    "\n",
    "\n",
    "with open(\"experiments_data.json\", \"r\") as f:\n",
    "    data = json.load(f)[\"data\"]\n",
    "    total = len(data)\n",
    "\n",
    "with open(\"portfolio_optimization_results.json\", \"r\") as f:\n",
    "    results = json.load(f)\n",
    "    processed = len(results)\n",
    "\n",
    "print(\"progress so far \", processed/total)"
   ]
  }
 ],
 "metadata": {
  "kernelspec": {
   "display_name": "myenv",
   "language": "python",
   "name": "python3"
  },
  "language_info": {
   "codemirror_mode": {
    "name": "ipython",
    "version": 3
   },
   "file_extension": ".py",
   "mimetype": "text/x-python",
   "name": "python",
   "nbconvert_exporter": "python",
   "pygments_lexer": "ipython3",
   "version": "3.10.12"
  }
 },
 "nbformat": 4,
 "nbformat_minor": 2
}
