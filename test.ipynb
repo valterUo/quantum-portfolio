{
 "cells": [
  {
   "cell_type": "code",
   "execution_count": 1,
   "metadata": {},
   "outputs": [
    {
     "name": "stdout",
     "output_type": "stream",
     "text": [
      "total number of experiments  445\n",
      "Processed  285\n",
      "progress so far  0.6404494382022472\n"
     ]
    }
   ],
   "source": [
    "import json\n",
    "import os\n",
    "\n",
    "\n",
    "with open(\"experiments_data.json\", \"r\") as f:\n",
    "    data = json.load(f)[\"data\"]\n",
    "    total = len(data)\n",
    "    \n",
    "print(\"total number of experiments \", total)\n",
    "\n",
    "files = [file for file in os.listdir(\"./\") if \"portfolio_optimization_results_batch\" in file]\n",
    "\n",
    "processed = 0\n",
    "for file in files:\n",
    "    with open(file, \"r\") as f:\n",
    "        results = json.load(f)\n",
    "        processed += len(results)\n",
    "\n",
    "print(\"Processed \", processed)\n",
    "print(\"progress so far \", processed/total)"
   ]
  },
  {
   "cell_type": "code",
   "execution_count": null,
   "metadata": {},
   "outputs": [],
   "source": []
  }
 ],
 "metadata": {
  "kernelspec": {
   "display_name": "myenv",
   "language": "python",
   "name": "python3"
  },
  "language_info": {
   "codemirror_mode": {
    "name": "ipython",
    "version": 3
   },
   "file_extension": ".py",
   "mimetype": "text/x-python",
   "name": "python",
   "nbconvert_exporter": "python",
   "pygments_lexer": "ipython3",
   "version": "3.10.12"
  }
 },
 "nbformat": 4,
 "nbformat_minor": 2
}
